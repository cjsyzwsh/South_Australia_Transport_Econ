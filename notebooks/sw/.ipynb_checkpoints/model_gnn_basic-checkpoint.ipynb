{
 "cells": [
  {
   "cell_type": "markdown",
   "metadata": {},
   "source": [
    "### Naive GNN application to the SA data set\n",
    "\n",
    "### y - discrete inc (0, 1); x - other node features; edge index - the physical networks"
   ]
  },
  {
   "cell_type": "code",
   "execution_count": 3,
   "metadata": {},
   "outputs": [],
   "source": [
    "import numpy as np\n",
    "import pandas as pd\n",
    "import matplotlib.pyplot as plt\n",
    "import geopandas as gpd\n",
    "# import geoplot\n",
    "import pickle\n",
    "import statsmodels.api as sm\n",
    "import copy\n"
   ]
  },
  {
   "cell_type": "code",
   "execution_count": 4,
   "metadata": {},
   "outputs": [
    {
     "ename": "ModuleNotFoundError",
     "evalue": "No module named 'torch'",
     "output_type": "error",
     "traceback": [
      "\u001b[0;31m---------------------------------------------------------------------------\u001b[0m",
      "\u001b[0;31mModuleNotFoundError\u001b[0m                       Traceback (most recent call last)",
      "\u001b[0;32m<ipython-input-4-767c8a8c19d6>\u001b[0m in \u001b[0;36m<module>\u001b[0;34m\u001b[0m\n\u001b[0;32m----> 1\u001b[0;31m \u001b[0;32mimport\u001b[0m \u001b[0mtorch\u001b[0m\u001b[0;34m\u001b[0m\u001b[0;34m\u001b[0m\u001b[0m\n\u001b[0m\u001b[1;32m      2\u001b[0m \u001b[0;32mfrom\u001b[0m \u001b[0mtorch_geometric\u001b[0m\u001b[0;34m.\u001b[0m\u001b[0mdata\u001b[0m \u001b[0;32mimport\u001b[0m \u001b[0mData\u001b[0m\u001b[0;34m\u001b[0m\u001b[0;34m\u001b[0m\u001b[0m\n",
      "\u001b[0;31mModuleNotFoundError\u001b[0m: No module named 'torch'"
     ]
    }
   ],
   "source": [
    "import torch\n",
    "from torch_geometric.data import Data\n"
   ]
  },
  {
   "cell_type": "code",
   "execution_count": 3,
   "metadata": {},
   "outputs": [],
   "source": [
    "# read two datasets\n",
    "edge_df = pd.read_pickle('../../data_process/edge_specific_df.pickle')\n",
    "node_df = pd.read_pickle('../../data_process/node_specific_df.pickle')\n"
   ]
  },
  {
   "cell_type": "code",
   "execution_count": null,
   "metadata": {},
   "outputs": [],
   "source": []
  },
  {
   "cell_type": "code",
   "execution_count": null,
   "metadata": {},
   "outputs": [],
   "source": []
  },
  {
   "cell_type": "markdown",
   "metadata": {},
   "source": [
    "### Preapre the data set"
   ]
  },
  {
   "cell_type": "code",
   "execution_count": 6,
   "metadata": {
    "scrolled": false
   },
   "outputs": [
    {
     "data": {
      "text/plain": [
       "Index(['SA2_MAIN16', 'SA2_5DIG16', 'SA2_NAME16', 'SA3_CODE16', 'SA3_NAME16',\n",
       "       'SA4_CODE16', 'SA4_NAME16', 'GCC_CODE16', 'GCC_NAME16', 'STE_CODE16',\n",
       "       'STE_NAME16', 'AREASQKM16', 'class_ART', 'class_BUS', 'class_COLL',\n",
       "       'class_FREE', 'class_HWY', 'class_LOCL', 'class_SUBA', 'class_TRK2',\n",
       "       'class_TRK4', 'class_UND', 'geometry', 'num_jobs_000_persons',\n",
       "       'sa2_code16', 'median_income_per_job_aud_persons', 'origin_x',\n",
       "       'unique_agents_origin_counts', 'sum_stay_duration_origin_counts',\n",
       "       'total_stays_origin_counts', 'destination_x',\n",
       "       'unique_agents_destination_counts',\n",
       "       'sum_stay_duration_destination_counts',\n",
       "       'total_stays_destination_counts', 'origin_y',\n",
       "       'unique_agents_origin_entropy', 'sum_stay_duration_origin_entropy',\n",
       "       'total_stays_origin_entropy', 'destination_y',\n",
       "       'unique_agents_destination_entropy',\n",
       "       'sum_stay_duration_destination_entropy',\n",
       "       'total_stays_destination_entropy'],\n",
       "      dtype='object')"
      ]
     },
     "execution_count": 6,
     "metadata": {},
     "output_type": "execute_result"
    }
   ],
   "source": [
    "node_df.columns"
   ]
  },
  {
   "cell_type": "code",
   "execution_count": 53,
   "metadata": {
    "scrolled": true
   },
   "outputs": [
    {
     "data": {
      "text/html": [
       "<div>\n",
       "<style scoped>\n",
       "    .dataframe tbody tr th:only-of-type {\n",
       "        vertical-align: middle;\n",
       "    }\n",
       "\n",
       "    .dataframe tbody tr th {\n",
       "        vertical-align: top;\n",
       "    }\n",
       "\n",
       "    .dataframe thead th {\n",
       "        text-align: right;\n",
       "    }\n",
       "</style>\n",
       "<table border=\"1\" class=\"dataframe\">\n",
       "  <thead>\n",
       "    <tr style=\"text-align: right;\">\n",
       "      <th></th>\n",
       "      <th>SA2_MAIN16</th>\n",
       "      <th>SA2_5DIG16</th>\n",
       "      <th>SA2_NAME16</th>\n",
       "      <th>SA3_CODE16</th>\n",
       "      <th>SA3_NAME16</th>\n",
       "      <th>SA4_CODE16</th>\n",
       "      <th>SA4_NAME16</th>\n",
       "      <th>GCC_CODE16</th>\n",
       "      <th>GCC_NAME16</th>\n",
       "      <th>STE_CODE16</th>\n",
       "      <th>...</th>\n",
       "      <th>total_stays_destination_counts</th>\n",
       "      <th>origin_y</th>\n",
       "      <th>unique_agents_origin_entropy</th>\n",
       "      <th>sum_stay_duration_origin_entropy</th>\n",
       "      <th>total_stays_origin_entropy</th>\n",
       "      <th>destination_y</th>\n",
       "      <th>unique_agents_destination_entropy</th>\n",
       "      <th>sum_stay_duration_destination_entropy</th>\n",
       "      <th>total_stays_destination_entropy</th>\n",
       "      <th>discrete_inc</th>\n",
       "    </tr>\n",
       "  </thead>\n",
       "  <tbody>\n",
       "    <tr>\n",
       "      <th>0</th>\n",
       "      <td>401011001</td>\n",
       "      <td>41001</td>\n",
       "      <td>Adelaide</td>\n",
       "      <td>40101</td>\n",
       "      <td>Adelaide City</td>\n",
       "      <td>401</td>\n",
       "      <td>Adelaide - Central and Hills</td>\n",
       "      <td>4GADE</td>\n",
       "      <td>Greater Adelaide</td>\n",
       "      <td>4</td>\n",
       "      <td>...</td>\n",
       "      <td>6577944</td>\n",
       "      <td>401011001</td>\n",
       "      <td>3.987705</td>\n",
       "      <td>1.588336</td>\n",
       "      <td>2.324296</td>\n",
       "      <td>401011001</td>\n",
       "      <td>4.460324</td>\n",
       "      <td>3.949646</td>\n",
       "      <td>4.237396</td>\n",
       "      <td>0.0</td>\n",
       "    </tr>\n",
       "    <tr>\n",
       "      <th>1</th>\n",
       "      <td>401011002</td>\n",
       "      <td>41002</td>\n",
       "      <td>North Adelaide</td>\n",
       "      <td>40101</td>\n",
       "      <td>Adelaide City</td>\n",
       "      <td>401</td>\n",
       "      <td>Adelaide - Central and Hills</td>\n",
       "      <td>4GADE</td>\n",
       "      <td>Greater Adelaide</td>\n",
       "      <td>4</td>\n",
       "      <td>...</td>\n",
       "      <td>1123442</td>\n",
       "      <td>401011002</td>\n",
       "      <td>3.855433</td>\n",
       "      <td>1.944331</td>\n",
       "      <td>2.609353</td>\n",
       "      <td>401011002</td>\n",
       "      <td>4.391005</td>\n",
       "      <td>3.152188</td>\n",
       "      <td>3.975034</td>\n",
       "      <td>0.0</td>\n",
       "    </tr>\n",
       "    <tr>\n",
       "      <th>2</th>\n",
       "      <td>401021003</td>\n",
       "      <td>41003</td>\n",
       "      <td>Adelaide Hills</td>\n",
       "      <td>40102</td>\n",
       "      <td>Adelaide Hills</td>\n",
       "      <td>401</td>\n",
       "      <td>Adelaide - Central and Hills</td>\n",
       "      <td>4GADE</td>\n",
       "      <td>Greater Adelaide</td>\n",
       "      <td>4</td>\n",
       "      <td>...</td>\n",
       "      <td>304810</td>\n",
       "      <td>401021003</td>\n",
       "      <td>3.956555</td>\n",
       "      <td>1.266519</td>\n",
       "      <td>2.456366</td>\n",
       "      <td>401021003</td>\n",
       "      <td>4.007255</td>\n",
       "      <td>0.948900</td>\n",
       "      <td>2.042530</td>\n",
       "      <td>0.0</td>\n",
       "    </tr>\n",
       "    <tr>\n",
       "      <th>3</th>\n",
       "      <td>401021004</td>\n",
       "      <td>41004</td>\n",
       "      <td>Aldgate - Stirling</td>\n",
       "      <td>40102</td>\n",
       "      <td>Adelaide Hills</td>\n",
       "      <td>401</td>\n",
       "      <td>Adelaide - Central and Hills</td>\n",
       "      <td>4GADE</td>\n",
       "      <td>Greater Adelaide</td>\n",
       "      <td>4</td>\n",
       "      <td>...</td>\n",
       "      <td>922067</td>\n",
       "      <td>401021004</td>\n",
       "      <td>3.879316</td>\n",
       "      <td>1.355832</td>\n",
       "      <td>2.310259</td>\n",
       "      <td>401021004</td>\n",
       "      <td>3.942693</td>\n",
       "      <td>1.099284</td>\n",
       "      <td>2.075796</td>\n",
       "      <td>1.0</td>\n",
       "    </tr>\n",
       "    <tr>\n",
       "      <th>4</th>\n",
       "      <td>401021005</td>\n",
       "      <td>41005</td>\n",
       "      <td>Hahndorf - Echunga</td>\n",
       "      <td>40102</td>\n",
       "      <td>Adelaide Hills</td>\n",
       "      <td>401</td>\n",
       "      <td>Adelaide - Central and Hills</td>\n",
       "      <td>4GADE</td>\n",
       "      <td>Greater Adelaide</td>\n",
       "      <td>4</td>\n",
       "      <td>...</td>\n",
       "      <td>281143</td>\n",
       "      <td>401021005</td>\n",
       "      <td>3.732677</td>\n",
       "      <td>1.404100</td>\n",
       "      <td>2.330624</td>\n",
       "      <td>401021005</td>\n",
       "      <td>4.017761</td>\n",
       "      <td>1.654530</td>\n",
       "      <td>2.549629</td>\n",
       "      <td>0.0</td>\n",
       "    </tr>\n",
       "    <tr>\n",
       "      <th>...</th>\n",
       "      <td>...</td>\n",
       "      <td>...</td>\n",
       "      <td>...</td>\n",
       "      <td>...</td>\n",
       "      <td>...</td>\n",
       "      <td>...</td>\n",
       "      <td>...</td>\n",
       "      <td>...</td>\n",
       "      <td>...</td>\n",
       "      <td>...</td>\n",
       "      <td>...</td>\n",
       "      <td>...</td>\n",
       "      <td>...</td>\n",
       "      <td>...</td>\n",
       "      <td>...</td>\n",
       "      <td>...</td>\n",
       "      <td>...</td>\n",
       "      <td>...</td>\n",
       "      <td>...</td>\n",
       "      <td>...</td>\n",
       "      <td>...</td>\n",
       "    </tr>\n",
       "    <tr>\n",
       "      <th>98</th>\n",
       "      <td>404031105</td>\n",
       "      <td>41105</td>\n",
       "      <td>Fulham</td>\n",
       "      <td>40403</td>\n",
       "      <td>West Torrens</td>\n",
       "      <td>404</td>\n",
       "      <td>Adelaide - West</td>\n",
       "      <td>4GADE</td>\n",
       "      <td>Greater Adelaide</td>\n",
       "      <td>4</td>\n",
       "      <td>...</td>\n",
       "      <td>121431</td>\n",
       "      <td>404031105</td>\n",
       "      <td>3.607086</td>\n",
       "      <td>1.765320</td>\n",
       "      <td>2.501771</td>\n",
       "      <td>404031105</td>\n",
       "      <td>3.689014</td>\n",
       "      <td>1.975506</td>\n",
       "      <td>2.784143</td>\n",
       "      <td>0.0</td>\n",
       "    </tr>\n",
       "    <tr>\n",
       "      <th>99</th>\n",
       "      <td>404031106</td>\n",
       "      <td>41106</td>\n",
       "      <td>Lockleys</td>\n",
       "      <td>40403</td>\n",
       "      <td>West Torrens</td>\n",
       "      <td>404</td>\n",
       "      <td>Adelaide - West</td>\n",
       "      <td>4GADE</td>\n",
       "      <td>Greater Adelaide</td>\n",
       "      <td>4</td>\n",
       "      <td>...</td>\n",
       "      <td>697096</td>\n",
       "      <td>404031106</td>\n",
       "      <td>3.813245</td>\n",
       "      <td>1.737626</td>\n",
       "      <td>2.658701</td>\n",
       "      <td>404031106</td>\n",
       "      <td>4.044919</td>\n",
       "      <td>1.416921</td>\n",
       "      <td>2.608267</td>\n",
       "      <td>0.0</td>\n",
       "    </tr>\n",
       "    <tr>\n",
       "      <th>100</th>\n",
       "      <td>404031107</td>\n",
       "      <td>41107</td>\n",
       "      <td>Plympton</td>\n",
       "      <td>40403</td>\n",
       "      <td>West Torrens</td>\n",
       "      <td>404</td>\n",
       "      <td>Adelaide - West</td>\n",
       "      <td>4GADE</td>\n",
       "      <td>Greater Adelaide</td>\n",
       "      <td>4</td>\n",
       "      <td>...</td>\n",
       "      <td>1527065</td>\n",
       "      <td>404031107</td>\n",
       "      <td>3.897496</td>\n",
       "      <td>1.747409</td>\n",
       "      <td>2.601546</td>\n",
       "      <td>404031107</td>\n",
       "      <td>4.083340</td>\n",
       "      <td>1.695853</td>\n",
       "      <td>2.732940</td>\n",
       "      <td>0.0</td>\n",
       "    </tr>\n",
       "    <tr>\n",
       "      <th>101</th>\n",
       "      <td>404031108</td>\n",
       "      <td>41108</td>\n",
       "      <td>Richmond (SA)</td>\n",
       "      <td>40403</td>\n",
       "      <td>West Torrens</td>\n",
       "      <td>404</td>\n",
       "      <td>Adelaide - West</td>\n",
       "      <td>4GADE</td>\n",
       "      <td>Greater Adelaide</td>\n",
       "      <td>4</td>\n",
       "      <td>...</td>\n",
       "      <td>1549687</td>\n",
       "      <td>404031108</td>\n",
       "      <td>3.944291</td>\n",
       "      <td>1.692916</td>\n",
       "      <td>2.532070</td>\n",
       "      <td>404031108</td>\n",
       "      <td>4.279049</td>\n",
       "      <td>2.308701</td>\n",
       "      <td>3.390496</td>\n",
       "      <td>0.0</td>\n",
       "    </tr>\n",
       "    <tr>\n",
       "      <th>102</th>\n",
       "      <td>404031109</td>\n",
       "      <td>41109</td>\n",
       "      <td>West Beach</td>\n",
       "      <td>40403</td>\n",
       "      <td>West Torrens</td>\n",
       "      <td>404</td>\n",
       "      <td>Adelaide - West</td>\n",
       "      <td>4GADE</td>\n",
       "      <td>Greater Adelaide</td>\n",
       "      <td>4</td>\n",
       "      <td>...</td>\n",
       "      <td>323973</td>\n",
       "      <td>404031109</td>\n",
       "      <td>3.809974</td>\n",
       "      <td>1.777542</td>\n",
       "      <td>2.763865</td>\n",
       "      <td>404031109</td>\n",
       "      <td>4.230177</td>\n",
       "      <td>1.752475</td>\n",
       "      <td>3.175361</td>\n",
       "      <td>1.0</td>\n",
       "    </tr>\n",
       "  </tbody>\n",
       "</table>\n",
       "<p>103 rows × 43 columns</p>\n",
       "</div>"
      ],
      "text/plain": [
       "    SA2_MAIN16 SA2_5DIG16          SA2_NAME16 SA3_CODE16      SA3_NAME16  \\\n",
       "0    401011001      41001            Adelaide      40101   Adelaide City   \n",
       "1    401011002      41002      North Adelaide      40101   Adelaide City   \n",
       "2    401021003      41003      Adelaide Hills      40102  Adelaide Hills   \n",
       "3    401021004      41004  Aldgate - Stirling      40102  Adelaide Hills   \n",
       "4    401021005      41005  Hahndorf - Echunga      40102  Adelaide Hills   \n",
       "..         ...        ...                 ...        ...             ...   \n",
       "98   404031105      41105              Fulham      40403    West Torrens   \n",
       "99   404031106      41106            Lockleys      40403    West Torrens   \n",
       "100  404031107      41107            Plympton      40403    West Torrens   \n",
       "101  404031108      41108       Richmond (SA)      40403    West Torrens   \n",
       "102  404031109      41109          West Beach      40403    West Torrens   \n",
       "\n",
       "    SA4_CODE16                    SA4_NAME16 GCC_CODE16        GCC_NAME16  \\\n",
       "0          401  Adelaide - Central and Hills      4GADE  Greater Adelaide   \n",
       "1          401  Adelaide - Central and Hills      4GADE  Greater Adelaide   \n",
       "2          401  Adelaide - Central and Hills      4GADE  Greater Adelaide   \n",
       "3          401  Adelaide - Central and Hills      4GADE  Greater Adelaide   \n",
       "4          401  Adelaide - Central and Hills      4GADE  Greater Adelaide   \n",
       "..         ...                           ...        ...               ...   \n",
       "98         404               Adelaide - West      4GADE  Greater Adelaide   \n",
       "99         404               Adelaide - West      4GADE  Greater Adelaide   \n",
       "100        404               Adelaide - West      4GADE  Greater Adelaide   \n",
       "101        404               Adelaide - West      4GADE  Greater Adelaide   \n",
       "102        404               Adelaide - West      4GADE  Greater Adelaide   \n",
       "\n",
       "    STE_CODE16  ... total_stays_destination_counts   origin_y  \\\n",
       "0            4  ...                        6577944  401011001   \n",
       "1            4  ...                        1123442  401011002   \n",
       "2            4  ...                         304810  401021003   \n",
       "3            4  ...                         922067  401021004   \n",
       "4            4  ...                         281143  401021005   \n",
       "..         ...  ...                            ...        ...   \n",
       "98           4  ...                         121431  404031105   \n",
       "99           4  ...                         697096  404031106   \n",
       "100          4  ...                        1527065  404031107   \n",
       "101          4  ...                        1549687  404031108   \n",
       "102          4  ...                         323973  404031109   \n",
       "\n",
       "     unique_agents_origin_entropy  sum_stay_duration_origin_entropy  \\\n",
       "0                        3.987705                          1.588336   \n",
       "1                        3.855433                          1.944331   \n",
       "2                        3.956555                          1.266519   \n",
       "3                        3.879316                          1.355832   \n",
       "4                        3.732677                          1.404100   \n",
       "..                            ...                               ...   \n",
       "98                       3.607086                          1.765320   \n",
       "99                       3.813245                          1.737626   \n",
       "100                      3.897496                          1.747409   \n",
       "101                      3.944291                          1.692916   \n",
       "102                      3.809974                          1.777542   \n",
       "\n",
       "     total_stays_origin_entropy  destination_y  \\\n",
       "0                      2.324296      401011001   \n",
       "1                      2.609353      401011002   \n",
       "2                      2.456366      401021003   \n",
       "3                      2.310259      401021004   \n",
       "4                      2.330624      401021005   \n",
       "..                          ...            ...   \n",
       "98                     2.501771      404031105   \n",
       "99                     2.658701      404031106   \n",
       "100                    2.601546      404031107   \n",
       "101                    2.532070      404031108   \n",
       "102                    2.763865      404031109   \n",
       "\n",
       "     unique_agents_destination_entropy  sum_stay_duration_destination_entropy  \\\n",
       "0                             4.460324                               3.949646   \n",
       "1                             4.391005                               3.152188   \n",
       "2                             4.007255                               0.948900   \n",
       "3                             3.942693                               1.099284   \n",
       "4                             4.017761                               1.654530   \n",
       "..                                 ...                                    ...   \n",
       "98                            3.689014                               1.975506   \n",
       "99                            4.044919                               1.416921   \n",
       "100                           4.083340                               1.695853   \n",
       "101                           4.279049                               2.308701   \n",
       "102                           4.230177                               1.752475   \n",
       "\n",
       "     total_stays_destination_entropy  discrete_inc  \n",
       "0                           4.237396           0.0  \n",
       "1                           3.975034           0.0  \n",
       "2                           2.042530           0.0  \n",
       "3                           2.075796           1.0  \n",
       "4                           2.549629           0.0  \n",
       "..                               ...           ...  \n",
       "98                          2.784143           0.0  \n",
       "99                          2.608267           0.0  \n",
       "100                         2.732940           0.0  \n",
       "101                         3.390496           0.0  \n",
       "102                         3.175361           1.0  \n",
       "\n",
       "[103 rows x 43 columns]"
      ]
     },
     "execution_count": 53,
     "metadata": {},
     "output_type": "execute_result"
    }
   ],
   "source": [
    "node_df=node_df.sort_values('SA2_MAIN16')"
   ]
  },
  {
   "cell_type": "code",
   "execution_count": 27,
   "metadata": {
    "scrolled": true
   },
   "outputs": [
    {
     "data": {
      "text/plain": [
       "tensor([0, 0, 0, 1, 0, 0, 0, 0, 1, 1, 0, 1, 0, 1, 0, 0, 0, 0, 0, 1, 1, 0, 0, 0,\n",
       "        1, 1, 1, 1, 0, 0, 1, 1, 0, 0, 0, 0, 1, 0, 1, 1, 0, 1, 0, 1, 1, 1, 1, 1,\n",
       "        1, 1, 0, 1, 1, 1, 0, 0, 0, 1, 1, 0, 0, 1, 0, 1, 0, 1, 1, 1, 0, 1, 0, 0,\n",
       "        0, 0, 1, 1, 1, 0, 1, 0, 1, 1, 1, 1, 0, 1, 1, 0, 1, 0, 1, 1, 1, 0, 1, 1,\n",
       "        0, 0, 0, 0, 0, 0, 1])"
      ]
     },
     "execution_count": 27,
     "metadata": {},
     "output_type": "execute_result"
    }
   ],
   "source": [
    "# y\n",
    "from sklearn.preprocessing import KBinsDiscretizer\n",
    "est = KBinsDiscretizer(n_bins=2, encode='ordinal', strategy='quantile')\n",
    "discrete_inc = est.fit_transform(node_df['median_income_per_job_aud_persons'].values[:, np.newaxis])\n",
    "node_df['discrete_inc'] = discrete_inc # this is y.\n",
    "y = copy.copy(discrete_inc)\n",
    "y_torch = torch.LongTensor(discrete_inc).squeeze()\n",
    "y_torch"
   ]
  },
  {
   "cell_type": "code",
   "execution_count": 126,
   "metadata": {
    "scrolled": true
   },
   "outputs": [
    {
     "data": {
      "text/plain": [
       "tensor([[0.1399, 0.1153, 0.3923],\n",
       "        [0.0543, 0.0536, 0.0729],\n",
       "        [0.0535, 0.0463, 0.0407],\n",
       "        [0.1409, 0.1176, 0.1044],\n",
       "        [0.0338, 0.0296, 0.0307],\n",
       "        [0.0687, 0.0592, 0.0553],\n",
       "        [0.1270, 0.1148, 0.1110],\n",
       "        [0.0502, 0.0375, 0.0327],\n",
       "        [0.0385, 0.0335, 0.0276],\n",
       "        [0.0414, 0.0364, 0.0331],\n",
       "        [0.1391, 0.1358, 0.1108],\n",
       "        [0.0731, 0.0663, 0.0537],\n",
       "        [0.1231, 0.1161, 0.1312],\n",
       "        [0.0725, 0.0675, 0.0533],\n",
       "        [0.1332, 0.1450, 0.1272],\n",
       "        [0.1509, 0.1590, 0.1360],\n",
       "        [0.0896, 0.0807, 0.0854],\n",
       "        [0.0901, 0.0934, 0.0954],\n",
       "        [0.1088, 0.0957, 0.0783],\n",
       "        [0.0511, 0.0434, 0.0247],\n",
       "        [0.1167, 0.1092, 0.1136],\n",
       "        [0.0566, 0.0485, 0.0451],\n",
       "        [0.1460, 0.1310, 0.1177],\n",
       "        [0.1626, 0.1504, 0.1316],\n",
       "        [0.0690, 0.0598, 0.0543],\n",
       "        [0.1335, 0.1431, 0.1364],\n",
       "        [0.0419, 0.0349, 0.0283],\n",
       "        [0.1275, 0.1239, 0.0864],\n",
       "        [0.0954, 0.1131, 0.1085],\n",
       "        [0.0435, 0.0704, 0.1062],\n",
       "        [0.0737, 0.0938, 0.0645],\n",
       "        [0.0827, 0.0768, 0.0584],\n",
       "        [0.0189, 0.0180, 0.0188],\n",
       "        [0.0597, 0.0873, 0.1081],\n",
       "        [0.0221, 0.0301, 0.0370],\n",
       "        [0.1545, 0.1662, 0.1647],\n",
       "        [0.1614, 0.1804, 0.1467],\n",
       "        [0.1511, 0.1503, 0.1337],\n",
       "        [0.0949, 0.1036, 0.0785],\n",
       "        [0.1034, 0.0979, 0.0856],\n",
       "        [0.1070, 0.1189, 0.0834],\n",
       "        [0.1129, 0.1126, 0.0962],\n",
       "        [0.0992, 0.1284, 0.1386],\n",
       "        [0.1170, 0.1248, 0.1018],\n",
       "        [0.1035, 0.1168, 0.1056],\n",
       "        [0.1047, 0.0849, 0.0864],\n",
       "        [0.0508, 0.0554, 0.0673],\n",
       "        [0.0746, 0.0745, 0.0767],\n",
       "        [0.0684, 0.0618, 0.0470],\n",
       "        [0.0798, 0.0745, 0.0636],\n",
       "        [0.1081, 0.1251, 0.1373],\n",
       "        [0.1437, 0.1332, 0.1062],\n",
       "        [0.1191, 0.1167, 0.0907],\n",
       "        [0.0898, 0.0921, 0.0862],\n",
       "        [0.1071, 0.1044, 0.0915],\n",
       "        [0.1620, 0.1570, 0.1684],\n",
       "        [0.1025, 0.1035, 0.0890],\n",
       "        [0.0992, 0.0906, 0.0629],\n",
       "        [0.0703, 0.0668, 0.0507],\n",
       "        [0.1022, 0.1120, 0.0983],\n",
       "        [0.1074, 0.1146, 0.0981],\n",
       "        [0.0813, 0.0672, 0.0648],\n",
       "        [0.1056, 0.1154, 0.1302],\n",
       "        [0.0361, 0.0315, 0.0249],\n",
       "        [0.0510, 0.0514, 0.0621],\n",
       "        [0.0919, 0.0852, 0.0721],\n",
       "        [0.1188, 0.1137, 0.1086],\n",
       "        [0.1259, 0.1192, 0.1235],\n",
       "        [0.0558, 0.0609, 0.0548],\n",
       "        [0.0909, 0.0794, 0.0692],\n",
       "        [0.1031, 0.1050, 0.0901],\n",
       "        [0.0515, 0.0686, 0.0807],\n",
       "        [0.0670, 0.0766, 0.0655],\n",
       "        [0.0203, 0.0181, 0.0157],\n",
       "        [0.0351, 0.0299, 0.0323],\n",
       "        [0.0818, 0.0689, 0.0512],\n",
       "        [0.0433, 0.0467, 0.0373],\n",
       "        [0.0433, 0.0545, 0.0499],\n",
       "        [0.1012, 0.0942, 0.0728],\n",
       "        [0.0465, 0.0393, 0.0456],\n",
       "        [0.0914, 0.0982, 0.0940],\n",
       "        [0.0586, 0.0688, 0.0593],\n",
       "        [0.0720, 0.0721, 0.0652],\n",
       "        [0.1594, 0.1550, 0.1339],\n",
       "        [0.0283, 0.0234, 0.0231],\n",
       "        [0.0835, 0.0770, 0.0609],\n",
       "        [0.0590, 0.0529, 0.0570],\n",
       "        [0.1040, 0.1072, 0.0989],\n",
       "        [0.1139, 0.1098, 0.1083],\n",
       "        [0.1373, 0.1377, 0.1341],\n",
       "        [0.0415, 0.0440, 0.0441],\n",
       "        [0.1133, 0.1219, 0.0947],\n",
       "        [0.0999, 0.1108, 0.1078],\n",
       "        [0.1255, 0.1287, 0.1219],\n",
       "        [0.1145, 0.1138, 0.0958],\n",
       "        [0.1010, 0.1060, 0.0966],\n",
       "        [0.0767, 0.0829, 0.1077],\n",
       "        [0.1147, 0.1340, 0.1370],\n",
       "        [0.0186, 0.0161, 0.0129],\n",
       "        [0.0970, 0.0924, 0.0779],\n",
       "        [0.1887, 0.1798, 0.1644],\n",
       "        [0.1337, 0.1218, 0.1302],\n",
       "        [0.0389, 0.0339, 0.0303]])"
      ]
     },
     "execution_count": 126,
     "metadata": {},
     "output_type": "execute_result"
    }
   ],
   "source": [
    "# X\n",
    "X = node_df[['num_jobs_000_persons', 'sum_stay_duration_origin_counts', 'sum_stay_duration_destination_counts']].values\n",
    "from sklearn.preprocessing import normalize\n",
    "X = normalize(X, norm='l2', axis=0)\n",
    "X_torch = torch.FloatTensor(X)\n",
    "X_torch "
   ]
  },
  {
   "cell_type": "code",
   "execution_count": 127,
   "metadata": {
    "scrolled": false
   },
   "outputs": [
    {
     "name": "stdout",
     "output_type": "stream",
     "text": [
      "Optimization terminated successfully.\n",
      "         Current function value: 0.590144\n",
      "         Iterations 7\n",
      "[[31. 20.]\n",
      " [16. 36.]]\n",
      "Accuracy is 0.640777\n"
     ]
    }
   ],
   "source": [
    "# Base line regression.\n",
    "# X = sm.add_constant(X)\n",
    "mod = sm.Logit(y, X)\n",
    "res = mod.fit()\n",
    "# print(res.summary())\n",
    "\n",
    "# mod.params()\n",
    "# mod.predict(res.params, exo)\n",
    "\n",
    "# prediction & confusion matrix\n",
    "print(res.pred_table()) \n",
    "print(\"Accuracy is {:5f}\".format((28+38)/(28+23+14+38))) # accuracy 0.64077\n"
   ]
  },
  {
   "cell_type": "code",
   "execution_count": 54,
   "metadata": {
    "scrolled": true
   },
   "outputs": [
    {
     "data": {
      "text/plain": [
       "<AxesSubplot:>"
      ]
     },
     "execution_count": 54,
     "metadata": {},
     "output_type": "execute_result"
    },
    {
     "data": {
      "image/png": "[encoded data removed]",
      "text/plain": [
       "<Figure size 432x288 with 1 Axes>"
      ]
     },
     "metadata": {
      "needs_background": "light"
     },
     "output_type": "display_data"
    }
   ],
   "source": [
    "# edge index\n",
    "sa2_adelaide = gpd.read_file('../data_process/shapefiles/sa2_adelaide.shp')\n",
    "sa2_adelaide_proj = sa2_adelaide.to_crs(\"epsg:3112\")\n",
    "sa2_adelaide_proj['centroids']=sa2_adelaide_proj.centroid\n",
    "shared_idx = sa2_adelaide_proj.SA2_MAIN16.loc[sa2_adelaide_proj.SA2_MAIN16.isin(node_df.SA2_MAIN16.values)].values\n",
    "sa2_adelaide_proj = sa2_adelaide_proj.loc[sa2_adelaide_proj.SA2_MAIN16.isin(shared_idx), :].reset_index(drop=True) \n",
    "# node_idx = list(node_df.index)\n",
    "# node_idx\n",
    "sa2_adelaide_proj=sa2_adelaide_proj.sort_values('SA2_MAIN16')\n",
    "sa2_adelaide_proj.plot() # note several SA2s are removed. Wait, why? Ah...some limnitation from the flow data side. "
   ]
  },
  {
   "cell_type": "code",
   "execution_count": 55,
   "metadata": {
    "scrolled": true
   },
   "outputs": [
    {
     "data": {
      "text/html": [
       "<div>\n",
       "<style scoped>\n",
       "    .dataframe tbody tr th:only-of-type {\n",
       "        vertical-align: middle;\n",
       "    }\n",
       "\n",
       "    .dataframe tbody tr th {\n",
       "        vertical-align: top;\n",
       "    }\n",
       "\n",
       "    .dataframe thead th {\n",
       "        text-align: right;\n",
       "    }\n",
       "</style>\n",
       "<table border=\"1\" class=\"dataframe\">\n",
       "  <thead>\n",
       "    <tr style=\"text-align: right;\">\n",
       "      <th></th>\n",
       "      <th>SA2_MAIN16</th>\n",
       "      <th>SA2_5DIG16</th>\n",
       "      <th>SA2_NAME16</th>\n",
       "      <th>SA3_CODE16</th>\n",
       "      <th>SA3_NAME16</th>\n",
       "      <th>SA4_CODE16</th>\n",
       "      <th>SA4_NAME16</th>\n",
       "      <th>GCC_CODE16</th>\n",
       "      <th>GCC_NAME16</th>\n",
       "      <th>STE_CODE16</th>\n",
       "      <th>STE_NAME16</th>\n",
       "      <th>AREASQKM16</th>\n",
       "      <th>geometry</th>\n",
       "      <th>centroids</th>\n",
       "    </tr>\n",
       "  </thead>\n",
       "  <tbody>\n",
       "    <tr>\n",
       "      <th>0</th>\n",
       "      <td>401011001</td>\n",
       "      <td>41001</td>\n",
       "      <td>Adelaide</td>\n",
       "      <td>40101</td>\n",
       "      <td>Adelaide City</td>\n",
       "      <td>401</td>\n",
       "      <td>Adelaide - Central and Hills</td>\n",
       "      <td>4GADE</td>\n",
       "      <td>Greater Adelaide</td>\n",
       "      <td>4</td>\n",
       "      <td>South Australia</td>\n",
       "      <td>10.4824</td>\n",
       "      <td>POLYGON ((417263.891 -3939518.653, 417262.345 ...</td>\n",
       "      <td>POINT (419063.221 -3939397.800)</td>\n",
       "    </tr>\n",
       "    <tr>\n",
       "      <th>1</th>\n",
       "      <td>401011002</td>\n",
       "      <td>41002</td>\n",
       "      <td>North Adelaide</td>\n",
       "      <td>40101</td>\n",
       "      <td>Adelaide City</td>\n",
       "      <td>401</td>\n",
       "      <td>Adelaide - Central and Hills</td>\n",
       "      <td>4GADE</td>\n",
       "      <td>Greater Adelaide</td>\n",
       "      <td>4</td>\n",
       "      <td>South Australia</td>\n",
       "      <td>5.0909</td>\n",
       "      <td>POLYGON ((417476.199 -3936647.849, 417544.905 ...</td>\n",
       "      <td>POINT (418661.427 -3937155.968)</td>\n",
       "    </tr>\n",
       "    <tr>\n",
       "      <th>2</th>\n",
       "      <td>401021003</td>\n",
       "      <td>41003</td>\n",
       "      <td>Adelaide Hills</td>\n",
       "      <td>40102</td>\n",
       "      <td>Adelaide Hills</td>\n",
       "      <td>401</td>\n",
       "      <td>Adelaide - Central and Hills</td>\n",
       "      <td>4GADE</td>\n",
       "      <td>Greater Adelaide</td>\n",
       "      <td>4</td>\n",
       "      <td>South Australia</td>\n",
       "      <td>364.4390</td>\n",
       "      <td>POLYGON ((433666.133 -3928044.498, 433628.032 ...</td>\n",
       "      <td>POINT (445193.899 -3927296.237)</td>\n",
       "    </tr>\n",
       "    <tr>\n",
       "      <th>3</th>\n",
       "      <td>401021004</td>\n",
       "      <td>41004</td>\n",
       "      <td>Aldgate - Stirling</td>\n",
       "      <td>40102</td>\n",
       "      <td>Adelaide Hills</td>\n",
       "      <td>401</td>\n",
       "      <td>Adelaide - Central and Hills</td>\n",
       "      <td>4GADE</td>\n",
       "      <td>Greater Adelaide</td>\n",
       "      <td>4</td>\n",
       "      <td>South Australia</td>\n",
       "      <td>117.2141</td>\n",
       "      <td>POLYGON ((427353.316 -3946292.628, 427421.744 ...</td>\n",
       "      <td>POINT (429990.745 -3951575.711)</td>\n",
       "    </tr>\n",
       "    <tr>\n",
       "      <th>4</th>\n",
       "      <td>401021005</td>\n",
       "      <td>41005</td>\n",
       "      <td>Hahndorf - Echunga</td>\n",
       "      <td>40102</td>\n",
       "      <td>Adelaide Hills</td>\n",
       "      <td>401</td>\n",
       "      <td>Adelaide - Central and Hills</td>\n",
       "      <td>4GADE</td>\n",
       "      <td>Greater Adelaide</td>\n",
       "      <td>4</td>\n",
       "      <td>South Australia</td>\n",
       "      <td>110.1516</td>\n",
       "      <td>POLYGON ((435785.372 -3950672.079, 435799.037 ...</td>\n",
       "      <td>POINT (434391.684 -3957940.977)</td>\n",
       "    </tr>\n",
       "    <tr>\n",
       "      <th>...</th>\n",
       "      <td>...</td>\n",
       "      <td>...</td>\n",
       "      <td>...</td>\n",
       "      <td>...</td>\n",
       "      <td>...</td>\n",
       "      <td>...</td>\n",
       "      <td>...</td>\n",
       "      <td>...</td>\n",
       "      <td>...</td>\n",
       "      <td>...</td>\n",
       "      <td>...</td>\n",
       "      <td>...</td>\n",
       "      <td>...</td>\n",
       "      <td>...</td>\n",
       "    </tr>\n",
       "    <tr>\n",
       "      <th>98</th>\n",
       "      <td>404031105</td>\n",
       "      <td>41105</td>\n",
       "      <td>Fulham</td>\n",
       "      <td>40403</td>\n",
       "      <td>West Torrens</td>\n",
       "      <td>404</td>\n",
       "      <td>Adelaide - West</td>\n",
       "      <td>4GADE</td>\n",
       "      <td>Greater Adelaide</td>\n",
       "      <td>4</td>\n",
       "      <td>South Australia</td>\n",
       "      <td>1.3212</td>\n",
       "      <td>POLYGON ((410502.489 -3938804.420, 410496.375 ...</td>\n",
       "      <td>POINT (411149.918 -3938979.008)</td>\n",
       "    </tr>\n",
       "    <tr>\n",
       "      <th>99</th>\n",
       "      <td>404031106</td>\n",
       "      <td>41106</td>\n",
       "      <td>Lockleys</td>\n",
       "      <td>40403</td>\n",
       "      <td>West Torrens</td>\n",
       "      <td>404</td>\n",
       "      <td>Adelaide - West</td>\n",
       "      <td>4GADE</td>\n",
       "      <td>Greater Adelaide</td>\n",
       "      <td>4</td>\n",
       "      <td>South Australia</td>\n",
       "      <td>5.7020</td>\n",
       "      <td>POLYGON ((411842.413 -3938239.458, 411857.841 ...</td>\n",
       "      <td>POINT (413367.138 -3938842.518)</td>\n",
       "    </tr>\n",
       "    <tr>\n",
       "      <th>100</th>\n",
       "      <td>404031107</td>\n",
       "      <td>41107</td>\n",
       "      <td>Plympton</td>\n",
       "      <td>40403</td>\n",
       "      <td>West Torrens</td>\n",
       "      <td>404</td>\n",
       "      <td>Adelaide - West</td>\n",
       "      <td>4GADE</td>\n",
       "      <td>Greater Adelaide</td>\n",
       "      <td>4</td>\n",
       "      <td>South Australia</td>\n",
       "      <td>10.6969</td>\n",
       "      <td>POLYGON ((413778.862 -3941759.801, 413777.655 ...</td>\n",
       "      <td>POINT (414375.480 -3942463.664)</td>\n",
       "    </tr>\n",
       "    <tr>\n",
       "      <th>101</th>\n",
       "      <td>404031108</td>\n",
       "      <td>41108</td>\n",
       "      <td>Richmond (SA)</td>\n",
       "      <td>40403</td>\n",
       "      <td>West Torrens</td>\n",
       "      <td>404</td>\n",
       "      <td>Adelaide - West</td>\n",
       "      <td>4GADE</td>\n",
       "      <td>Greater Adelaide</td>\n",
       "      <td>4</td>\n",
       "      <td>South Australia</td>\n",
       "      <td>8.9253</td>\n",
       "      <td>POLYGON ((414829.341 -3937727.856, 414828.056 ...</td>\n",
       "      <td>POINT (415914.735 -3939208.012)</td>\n",
       "    </tr>\n",
       "    <tr>\n",
       "      <th>102</th>\n",
       "      <td>404031109</td>\n",
       "      <td>41109</td>\n",
       "      <td>West Beach</td>\n",
       "      <td>40403</td>\n",
       "      <td>West Torrens</td>\n",
       "      <td>404</td>\n",
       "      <td>Adelaide - West</td>\n",
       "      <td>4GADE</td>\n",
       "      <td>Greater Adelaide</td>\n",
       "      <td>4</td>\n",
       "      <td>South Australia</td>\n",
       "      <td>4.4582</td>\n",
       "      <td>POLYGON ((409706.522 -3939783.513, 409741.260 ...</td>\n",
       "      <td>POINT (410681.334 -3941021.708)</td>\n",
       "    </tr>\n",
       "  </tbody>\n",
       "</table>\n",
       "<p>103 rows × 14 columns</p>\n",
       "</div>"
      ],
      "text/plain": [
       "    SA2_MAIN16 SA2_5DIG16          SA2_NAME16 SA3_CODE16      SA3_NAME16  \\\n",
       "0    401011001      41001            Adelaide      40101   Adelaide City   \n",
       "1    401011002      41002      North Adelaide      40101   Adelaide City   \n",
       "2    401021003      41003      Adelaide Hills      40102  Adelaide Hills   \n",
       "3    401021004      41004  Aldgate - Stirling      40102  Adelaide Hills   \n",
       "4    401021005      41005  Hahndorf - Echunga      40102  Adelaide Hills   \n",
       "..         ...        ...                 ...        ...             ...   \n",
       "98   404031105      41105              Fulham      40403    West Torrens   \n",
       "99   404031106      41106            Lockleys      40403    West Torrens   \n",
       "100  404031107      41107            Plympton      40403    West Torrens   \n",
       "101  404031108      41108       Richmond (SA)      40403    West Torrens   \n",
       "102  404031109      41109          West Beach      40403    West Torrens   \n",
       "\n",
       "    SA4_CODE16                    SA4_NAME16 GCC_CODE16        GCC_NAME16  \\\n",
       "0          401  Adelaide - Central and Hills      4GADE  Greater Adelaide   \n",
       "1          401  Adelaide - Central and Hills      4GADE  Greater Adelaide   \n",
       "2          401  Adelaide - Central and Hills      4GADE  Greater Adelaide   \n",
       "3          401  Adelaide - Central and Hills      4GADE  Greater Adelaide   \n",
       "4          401  Adelaide - Central and Hills      4GADE  Greater Adelaide   \n",
       "..         ...                           ...        ...               ...   \n",
       "98         404               Adelaide - West      4GADE  Greater Adelaide   \n",
       "99         404               Adelaide - West      4GADE  Greater Adelaide   \n",
       "100        404               Adelaide - West      4GADE  Greater Adelaide   \n",
       "101        404               Adelaide - West      4GADE  Greater Adelaide   \n",
       "102        404               Adelaide - West      4GADE  Greater Adelaide   \n",
       "\n",
       "    STE_CODE16       STE_NAME16  AREASQKM16  \\\n",
       "0            4  South Australia     10.4824   \n",
       "1            4  South Australia      5.0909   \n",
       "2            4  South Australia    364.4390   \n",
       "3            4  South Australia    117.2141   \n",
       "4            4  South Australia    110.1516   \n",
       "..         ...              ...         ...   \n",
       "98           4  South Australia      1.3212   \n",
       "99           4  South Australia      5.7020   \n",
       "100          4  South Australia     10.6969   \n",
       "101          4  South Australia      8.9253   \n",
       "102          4  South Australia      4.4582   \n",
       "\n",
       "                                              geometry  \\\n",
       "0    POLYGON ((417263.891 -3939518.653, 417262.345 ...   \n",
       "1    POLYGON ((417476.199 -3936647.849, 417544.905 ...   \n",
       "2    POLYGON ((433666.133 -3928044.498, 433628.032 ...   \n",
       "3    POLYGON ((427353.316 -3946292.628, 427421.744 ...   \n",
       "4    POLYGON ((435785.372 -3950672.079, 435799.037 ...   \n",
       "..                                                 ...   \n",
       "98   POLYGON ((410502.489 -3938804.420, 410496.375 ...   \n",
       "99   POLYGON ((411842.413 -3938239.458, 411857.841 ...   \n",
       "100  POLYGON ((413778.862 -3941759.801, 413777.655 ...   \n",
       "101  POLYGON ((414829.341 -3937727.856, 414828.056 ...   \n",
       "102  POLYGON ((409706.522 -3939783.513, 409741.260 ...   \n",
       "\n",
       "                           centroids  \n",
       "0    POINT (419063.221 -3939397.800)  \n",
       "1    POINT (418661.427 -3937155.968)  \n",
       "2    POINT (445193.899 -3927296.237)  \n",
       "3    POINT (429990.745 -3951575.711)  \n",
       "4    POINT (434391.684 -3957940.977)  \n",
       "..                               ...  \n",
       "98   POINT (411149.918 -3938979.008)  \n",
       "99   POINT (413367.138 -3938842.518)  \n",
       "100  POINT (414375.480 -3942463.664)  \n",
       "101  POINT (415914.735 -3939208.012)  \n",
       "102  POINT (410681.334 -3941021.708)  \n",
       "\n",
       "[103 rows x 14 columns]"
      ]
     },
     "execution_count": 55,
     "metadata": {},
     "output_type": "execute_result"
    }
   ],
   "source": [
    "sa2_adelaide_proj"
   ]
  },
  {
   "cell_type": "code",
   "execution_count": 57,
   "metadata": {
    "scrolled": true
   },
   "outputs": [
    {
     "name": "stdout",
     "output_type": "stream",
     "text": [
      "103\n",
      "{0: [1, 100, 101, 12, 16, 18, 21, 22, 23, 89], 1: [0, 18, 20, 101, 21, 89], 2: [32, 5, 7, 9, 47, 49, 52, 53], 3: [65, 4, 5, 73, 11, 9, 63], 4: [3, 5, 6, 7, 73], 5: [2, 3, 4, 6, 7, 8, 9], 6: [8, 4, 5, 7], 7: [2, 4, 5, 6, 8, 73], 8: [5, 6, 7], 9: [2, 3, 5, 10, 11, 13, 15, 49], 10: [16, 17, 18, 9, 11, 12, 15], 11: [3, 67, 23, 9, 10, 12, 63], 12: [0, 16, 23, 10, 11], 13: [49, 15, 9, 14], 14: [49, 17, 37, 13, 15], 15: [17, 9, 10, 13, 14], 16: [0, 17, 18, 10, 12], 17: [16, 18, 37, 10, 14, 15], 18: [0, 1, 16, 17, 37, 21, 10], 19: [37, 35, 20, 21], 20: [1, 97, 35, 19, 21, 89], 21: [0, 1, 18, 19, 20, 37], 22: [0, 66, 67, 100, 101, 23, 56], 23: [0, 67, 22, 11, 12], 24: [25, 26, 31], 25: [32, 24, 27, 31], 26: [24, 34, 31], 27: [32, 33, 25, 30, 31], 28: [33, 34, 44, 29, 31], 29: [33, 42, 43, 44, 28, 30], 30: [32, 33, 27, 43, 29], 31: [33, 34, 24, 25, 26, 27, 28], 32: [48, 2, 27, 25, 43, 30, 47], 33: [27, 28, 29, 30, 31], 34: [41, 26, 28, 44, 31], 35: [97, 19, 36, 37, 38, 20, 46], 36: [50, 35, 37, 38, 46], 37: [35, 36, 14, 49, 18, 17, 19, 21, 50], 38: [50, 35, 36, 51, 39, 46], 39: [51, 38, 42, 43, 46, 47], 40: [41, 42, 45], 41: [34, 40, 42, 44, 45], 42: [39, 40, 41, 43, 44, 29], 43: [32, 48, 39, 42, 29, 30, 47], 44: [34, 41, 42, 28, 29], 45: [40, 41, 46], 46: [97, 35, 36, 38, 39, 45], 47: [32, 48, 2, 51, 52, 39, 43], 48: [32, 43, 47], 49: [2, 50, 37, 53, 9, 13, 14], 50: [49, 51, 36, 37, 38, 53], 51: [50, 52, 53, 38, 39, 47], 52: [2, 51, 53, 47], 53: [49, 2, 50, 52, 51], 54: [58, 62, 55], 55: [100, 102, 54, 60, 62], 56: [66, 100, 68, 22, 59, 60], 57: [82, 58, 61], 58: [54, 57, 75, 59, 61, 62], 59: [64, 66, 68, 75, 56, 58, 60, 62], 60: [100, 55, 56, 59, 62], 61: [82, 57, 58, 75, 78], 62: [54, 55, 58, 59, 60], 63: [64, 65, 3, 67, 68, 11], 64: [65, 68, 59, 75, 63], 65: [64, 3, 73, 74, 75, 63], 66: [67, 68, 22, 56, 59], 67: [66, 68, 22, 23, 11, 63], 68: [64, 66, 67, 56, 59, 63], 69: [73, 74, 75, 78], 70: [83, 84, 79], 71: [81, 83, 72, 76, 77], 72: [83, 71], 73: [65, 3, 4, 69, 7, 74, 76, 78, 79, 85], 74: [73, 65, 75, 69], 75: [64, 65, 58, 69, 74, 59, 61], 76: [80, 83, 85, 71, 73, 77, 79], 77: [80, 81, 76, 71], 78: [82, 69, 85, 73, 61], 79: [83, 84, 70, 73, 76], 80: [81, 82, 85, 76, 77], 81: [80, 82, 77, 71], 82: [80, 81, 85, 57, 61, 78], 83: [70, 71, 72, 76, 79], 84: [70, 79], 85: [80, 82, 73, 76, 78], 86: [87, 89, 90, 91, 93], 87: [99, 101, 86, 88, 89, 91], 88: [98, 99, 102, 87, 91], 89: [0, 1, 97, 101, 20, 86, 87, 93], 90: [96, 86, 91, 92, 93], 91: [86, 87, 88, 90, 92], 92: [96, 90, 91, 94], 93: [96, 97, 86, 89, 90], 94: [96, 92, 95], 95: [94], 96: [97, 90, 92, 93, 94], 97: [96, 35, 20, 89, 93, 46], 98: [88, 99, 102], 99: [98, 101, 102, 87, 88], 100: [0, 101, 22, 55, 56, 60], 101: [0, 1, 99, 100, 22, 87, 89], 102: [88, 98, 99, 55]}\n"
     ]
    }
   ],
   "source": [
    "from pysal.lib import weights\n",
    "\n",
    "adelaide_queen=weights.contiguity.Queen.from_dataframe(sa2_adelaide_proj)\n",
    "print(adelaide_queen.n)\n",
    "print(adelaide_queen.neighbors)"
   ]
  },
  {
   "cell_type": "code",
   "execution_count": 66,
   "metadata": {},
   "outputs": [
    {
     "data": {
      "text/plain": [
       "tensor([[  0,   0,   0,  ..., 102, 102, 102],\n",
       "        [  1, 100, 101,  ...,  98,  99,  55]])"
      ]
     },
     "execution_count": 66,
     "metadata": {},
     "output_type": "execute_result"
    }
   ],
   "source": [
    "# edge idx\n",
    "edge_list = []\n",
    "for source_node in adelaide_queen.neighbors:\n",
    "    for target_node in adelaide_queen.neighbors[source_node]:\n",
    "        edge_list.append([source_node, target_node])\n",
    "\n",
    "edge_index = np.array(edge_list).transpose()\n",
    "edge_index = torch.LongTensor(edge_index)\n",
    "edge_index\n"
   ]
  },
  {
   "cell_type": "code",
   "execution_count": 68,
   "metadata": {},
   "outputs": [
    {
     "data": {
      "text/plain": [
       "Data(edge_index=[2, 550], x=[103, 3], y=[103])"
      ]
     },
     "execution_count": 68,
     "metadata": {},
     "output_type": "execute_result"
    }
   ],
   "source": [
    "# create the data\n",
    "data = Data(x=X_torch, y=y_torch, edge_index = edge_index)\n",
    "data"
   ]
  },
  {
   "cell_type": "code",
   "execution_count": 82,
   "metadata": {},
   "outputs": [
    {
     "data": {
      "text/plain": [
       "Data(edge_index=[2, 550], test_mask=[103], train_mask=[103], x=[103, 3], y=[103])"
      ]
     },
     "execution_count": 82,
     "metadata": {},
     "output_type": "execute_result"
    }
   ],
   "source": [
    "# add masks\n",
    "train_mask = np.random.choice([True, False], size = 103, p = [0.8, 0.2]) # 80% training and 20% testing.\n",
    "test_mask = np.logical_not(train_mask)\n",
    "\n",
    "data.train_mask = torch.BoolTensor(train_mask)\n",
    "data.test_mask = torch.BoolTensor(test_mask)\n",
    "data"
   ]
  },
  {
   "cell_type": "code",
   "execution_count": 105,
   "metadata": {},
   "outputs": [
    {
     "name": "stdout",
     "output_type": "stream",
     "text": [
      "3\n"
     ]
    },
    {
     "ename": "AttributeError",
     "evalue": "'Data' object has no attribute 'num_classes'",
     "output_type": "error",
     "traceback": [
      "\u001b[0;31m---------------------------------------------------------------------------\u001b[0m",
      "\u001b[0;31mAttributeError\u001b[0m                            Traceback (most recent call last)",
      "\u001b[0;32m<ipython-input-105-189ceb402a07>\u001b[0m in \u001b[0;36m<module>\u001b[0;34m\u001b[0m\n\u001b[1;32m      1\u001b[0m \u001b[0mprint\u001b[0m\u001b[0;34m(\u001b[0m\u001b[0mdata\u001b[0m\u001b[0;34m.\u001b[0m\u001b[0mnum_node_features\u001b[0m\u001b[0;34m)\u001b[0m\u001b[0;34m\u001b[0m\u001b[0;34m\u001b[0m\u001b[0m\n\u001b[0;32m----> 2\u001b[0;31m \u001b[0mprint\u001b[0m\u001b[0;34m(\u001b[0m\u001b[0mdata\u001b[0m\u001b[0;34m.\u001b[0m\u001b[0mnum_classes\u001b[0m\u001b[0;34m)\u001b[0m\u001b[0;34m\u001b[0m\u001b[0;34m\u001b[0m\u001b[0m\n\u001b[0m",
      "\u001b[0;31mAttributeError\u001b[0m: 'Data' object has no attribute 'num_classes'"
     ]
    }
   ],
   "source": [
    "print(data.num_node_features)\n",
    "print(data.num_classes)"
   ]
  },
  {
   "cell_type": "markdown",
   "metadata": {},
   "source": [
    "# GNN regression"
   ]
  },
  {
   "cell_type": "code",
   "execution_count": 134,
   "metadata": {},
   "outputs": [],
   "source": [
    "import torch\n",
    "import torch.nn.functional as F\n",
    "from torch_geometric.nn import GCNConv"
   ]
  },
  {
   "cell_type": "code",
   "execution_count": 145,
   "metadata": {},
   "outputs": [],
   "source": [
    "# a naive GNN\n",
    "class Net(torch.nn.Module):\n",
    "    def __init__(self):\n",
    "        super(Net, self).__init__()\n",
    "        self.conv1 = GCNConv(3, 15)\n",
    "        self.conv2 = GCNConv(15, 2)\n",
    "        \n",
    "    def forward(self, data):\n",
    "        x, edge_index = data.x, data.edge_index\n",
    "        x = self.conv1(x, edge_index)\n",
    "        x = F.relu(x)\n",
    "        x = self.conv2(x, edge_index)\n",
    "\n",
    "        return F.log_softmax(x, dim = 1)\n",
    "        "
   ]
  },
  {
   "cell_type": "code",
   "execution_count": 146,
   "metadata": {},
   "outputs": [],
   "source": [
    "# \n",
    "device = torch.device('cuda:0' if torch.cuda.is_available() else 'cpu')\n",
    "model = Net().to(device)\n",
    "data = data.to(device)\n",
    "optimizer = torch.optim.Adam(model.parameters(), lr=0.01, weight_decay=5e-4)\n"
   ]
  },
  {
   "cell_type": "code",
   "execution_count": 147,
   "metadata": {
    "scrolled": true
   },
   "outputs": [
    {
     "name": "stdout",
     "output_type": "stream",
     "text": [
      "Epoch: 0, Training Accuracy: 0.5526\n",
      "Epoch: 0, Testing Accuracy: 0.3704\n",
      "Epoch: 20, Training Accuracy: 0.5526\n",
      "Epoch: 20, Testing Accuracy: 0.3704\n",
      "Epoch: 40, Training Accuracy: 0.7105\n",
      "Epoch: 40, Testing Accuracy: 0.4074\n",
      "Epoch: 60, Training Accuracy: 0.7368\n",
      "Epoch: 60, Testing Accuracy: 0.5185\n",
      "Epoch: 80, Training Accuracy: 0.6974\n",
      "Epoch: 80, Testing Accuracy: 0.5556\n",
      "Epoch: 100, Training Accuracy: 0.6842\n",
      "Epoch: 100, Testing Accuracy: 0.5556\n",
      "Epoch: 120, Training Accuracy: 0.6842\n",
      "Epoch: 120, Testing Accuracy: 0.5556\n",
      "Epoch: 140, Training Accuracy: 0.6711\n",
      "Epoch: 140, Testing Accuracy: 0.5556\n",
      "Epoch: 160, Training Accuracy: 0.6842\n",
      "Epoch: 160, Testing Accuracy: 0.5556\n",
      "Epoch: 180, Training Accuracy: 0.6842\n",
      "Epoch: 180, Testing Accuracy: 0.5556\n"
     ]
    }
   ],
   "source": [
    "# train\n",
    "model.train()\n",
    "for epoch in range(200):\n",
    "    optimizer.zero_grad()\n",
    "    out = model(data)\n",
    "    loss = F.nll_loss(out[data.train_mask], data.y[data.train_mask])\n",
    "    loss.backward()\n",
    "    optimizer.step()\n",
    "    \n",
    "    # evaluate \n",
    "    if epoch%20 == 0:\n",
    "        _, pred = model(data).max(dim=1)\n",
    "        train_correct = int(pred[data.train_mask].eq(data.y[data.train_mask]).sum().item())\n",
    "        train_acc = train_correct / int(data.train_mask.sum())\n",
    "        test_correct = int(pred[data.test_mask].eq(data.y[data.test_mask]).sum().item())\n",
    "        test_acc = test_correct / int(data.test_mask.sum())\n",
    "        print('Epoch: {}, Training Accuracy: {:.4f}'.format(epoch, train_acc))\n",
    "        print('Epoch: {}, Testing Accuracy: {:.4f}'.format(epoch, test_acc))\n"
   ]
  },
  {
   "cell_type": "code",
   "execution_count": 150,
   "metadata": {},
   "outputs": [
    {
     "data": {
      "text/plain": [
       "tensor([0, 0, 0, 1, 0, 0, 0, 0, 1, 1, 0, 1, 0, 1, 0, 0, 0, 0, 0, 1, 1, 0, 0, 0,\n",
       "        1, 1, 1, 1, 0, 0, 1, 1, 0, 0, 0, 0, 1, 0, 1, 1, 0, 1, 0, 1, 1, 1, 1, 1,\n",
       "        1, 1, 0, 1, 1, 1, 0, 0, 0, 1, 1, 0, 0, 1, 0, 1, 0, 1, 1, 1, 0, 1, 0, 0,\n",
       "        0, 0, 1, 1, 1, 0, 1, 0, 1, 1, 1, 1, 0, 1, 1, 0, 1, 0, 1, 1, 1, 0, 1, 1,\n",
       "        0, 0, 0, 0, 0, 0, 1], device='cuda:0')"
      ]
     },
     "execution_count": 150,
     "metadata": {},
     "output_type": "execute_result"
    }
   ],
   "source": [
    "data.y"
   ]
  },
  {
   "cell_type": "code",
   "execution_count": 151,
   "metadata": {},
   "outputs": [
    {
     "data": {
      "text/plain": [
       "tensor([0, 0, 1, 1, 1, 1, 1, 1, 1, 1, 0, 0, 0, 1, 0, 1, 0, 0, 0, 0, 0, 0, 0, 0,\n",
       "        1, 1, 1, 1, 1, 1, 1, 1, 1, 1, 1, 0, 0, 0, 0, 0, 1, 1, 0, 1, 1, 1, 0, 1,\n",
       "        1, 1, 0, 0, 1, 1, 0, 0, 0, 1, 1, 0, 0, 1, 0, 1, 1, 1, 0, 0, 1, 1, 1, 1,\n",
       "        1, 1, 1, 1, 1, 1, 1, 1, 1, 1, 1, 1, 1, 1, 0, 0, 1, 0, 1, 1, 0, 0, 0, 1,\n",
       "        0, 0, 1, 1, 0, 0, 1], device='cuda:0')"
      ]
     },
     "execution_count": 151,
     "metadata": {},
     "output_type": "execute_result"
    }
   ],
   "source": [
    "pred"
   ]
  },
  {
   "cell_type": "code",
   "execution_count": 123,
   "metadata": {},
   "outputs": [
    {
     "name": "stdout",
     "output_type": "stream",
     "text": [
      "Training Accuracy: 0.6842\n",
      "Testing Accuracy: 0.5556\n"
     ]
    }
   ],
   "source": [
    "# eval\n",
    "model.eval()\n",
    "\n",
    "_, pred = model(data).max(dim=1)\n",
    "train_correct = int(pred[data.train_mask].eq(data.y[data.train_mask]).sum().item())\n",
    "train_acc = train_correct / int(data.train_mask.sum())\n",
    "test_correct = int(pred[data.test_mask].eq(data.y[data.test_mask]).sum().item())\n",
    "test_acc = test_correct / int(data.test_mask.sum())\n",
    "\n",
    "print('Training Accuracy: {:.4f}'.format(train_acc))\n",
    "print('Testing Accuracy: {:.4f}'.format(test_acc))\n"
   ]
  },
  {
   "cell_type": "code",
   "execution_count": 124,
   "metadata": {},
   "outputs": [
    {
     "data": {
      "text/plain": [
       "27"
      ]
     },
     "execution_count": 124,
     "metadata": {},
     "output_type": "execute_result"
    }
   ],
   "source": [
    "int(data.test_mask.sum())"
   ]
  },
  {
   "cell_type": "code",
   "execution_count": 125,
   "metadata": {},
   "outputs": [
    {
     "data": {
      "text/plain": [
       "15"
      ]
     },
     "execution_count": 125,
     "metadata": {},
     "output_type": "execute_result"
    }
   ],
   "source": [
    "test_correct"
   ]
  },
  {
   "cell_type": "code",
   "execution_count": 128,
   "metadata": {
    "scrolled": true
   },
   "outputs": [
    {
     "data": {
      "text/plain": [
       "tensor([[-0.0716, -2.6728],\n",
       "        [-0.2621, -1.4671],\n",
       "        [-1.0479, -0.4318],\n",
       "        [-1.2539, -0.3360],\n",
       "        [-1.6039, -0.2245],\n",
       "        [-1.4901, -0.2553],\n",
       "        [-1.6666, -0.2093],\n",
       "        [-1.5430, -0.2405],\n",
       "        [-1.7263, -0.1960],\n",
       "        [-0.9196, -0.5086],\n",
       "        [-0.3937, -1.1225],\n",
       "        [-0.5738, -0.8288],\n",
       "        [-0.3133, -1.3132],\n",
       "        [-0.9793, -0.4709],\n",
       "        [-0.7395, -0.6489],\n",
       "        [-0.8018, -0.5951],\n",
       "        [-0.3361, -1.2537],\n",
       "        [-0.4536, -1.0088],\n",
       "        [-0.2777, -1.4169],\n",
       "        [-0.7075, -0.6790],\n",
       "        [-0.3937, -1.1225],\n",
       "        [-0.3957, -1.1185],\n",
       "        [-0.1939, -1.7358],\n",
       "        [-0.2986, -1.3543],\n",
       "        [-1.4356, -0.2718],\n",
       "        [-1.1505, -0.3805],\n",
       "        [-1.4249, -0.2751],\n",
       "        [-1.0071, -0.4546],\n",
       "        [-0.8089, -0.5895],\n",
       "        [-0.7018, -0.6845],\n",
       "        [-0.9097, -0.5152],\n",
       "        [-1.0184, -0.4481],\n",
       "        [-1.0935, -0.4081],\n",
       "        [-0.8544, -0.5543],\n",
       "        [-0.9921, -0.4633],\n",
       "        [-0.4229, -1.0646],\n",
       "        [-0.5164, -0.9080],\n",
       "        [-0.3569, -1.2035],\n",
       "        [-0.5001, -0.9327],\n",
       "        [-0.6376, -0.7520],\n",
       "        [-0.8654, -0.5463],\n",
       "        [-0.7425, -0.6461],\n",
       "        [-0.6076, -0.7867],\n",
       "        [-0.8289, -0.5736],\n",
       "        [-0.7252, -0.6621],\n",
       "        [-0.8376, -0.5670],\n",
       "        [-0.4885, -0.9508],\n",
       "        [-0.9944, -0.4620],\n",
       "        [-1.3601, -0.2966],\n",
       "        [-0.7474, -0.6417],\n",
       "        [-0.5713, -0.8320],\n",
       "        [-0.7256, -0.6617],\n",
       "        [-1.1213, -0.3943],\n",
       "        [-0.9208, -0.5078],\n",
       "        [-0.7242, -0.6631],\n",
       "        [-0.3981, -1.1134],\n",
       "        [-0.3684, -1.1771],\n",
       "        [-1.3843, -0.2884],\n",
       "        [-0.8857, -0.5318],\n",
       "        [-0.6253, -0.7659],\n",
       "        [-0.3996, -1.1104],\n",
       "        [-1.3011, -0.3178],\n",
       "        [-0.5380, -0.8769],\n",
       "        [-1.1738, -0.3699],\n",
       "        [-1.2517, -0.3369],\n",
       "        [-1.5062, -0.2507],\n",
       "        [-0.6149, -0.7780],\n",
       "        [-0.4994, -0.9336],\n",
       "        [-0.8787, -0.5367],\n",
       "        [-1.6273, -0.2187],\n",
       "        [-1.4172, -0.2776],\n",
       "        [-1.1118, -0.3989],\n",
       "        [-1.2161, -0.3515],\n",
       "        [-1.4544, -0.2660],\n",
       "        [-1.6607, -0.2107],\n",
       "        [-1.3302, -0.3071],\n",
       "        [-1.1965, -0.3599],\n",
       "        [-1.3366, -0.3048],\n",
       "        [-1.4778, -0.2589],\n",
       "        [-1.2961, -0.3197],\n",
       "        [-1.3363, -0.3049],\n",
       "        [-1.3197, -0.3109],\n",
       "        [-1.3763, -0.2910],\n",
       "        [-1.0862, -0.4117],\n",
       "        [-1.6005, -0.2254],\n",
       "        [-1.3688, -0.2936],\n",
       "        [-0.6101, -0.7837],\n",
       "        [-0.5472, -0.8640],\n",
       "        [-1.0461, -0.4328],\n",
       "        [-0.2485, -1.5142],\n",
       "        [-0.6990, -0.6874],\n",
       "        [-0.8099, -0.5886],\n",
       "        [-0.6852, -0.7011],\n",
       "        [-0.5106, -0.9166],\n",
       "        [-0.6640, -0.7231],\n",
       "        [-0.8817, -0.5345],\n",
       "        [-0.5314, -0.8862],\n",
       "        [-0.4016, -1.1064],\n",
       "        [-1.3619, -0.2959],\n",
       "        [-0.8607, -0.5497],\n",
       "        [-0.1949, -1.7311],\n",
       "        [-0.1861, -1.7730],\n",
       "        [-1.0744, -0.4178]], device='cuda:0', grad_fn=<LogSoftmaxBackward>)"
      ]
     },
     "execution_count": 128,
     "metadata": {},
     "output_type": "execute_result"
    }
   ],
   "source": [
    "model(data)"
   ]
  },
  {
   "cell_type": "code",
   "execution_count": null,
   "metadata": {},
   "outputs": [],
   "source": []
  },
  {
   "cell_type": "code",
   "execution_count": null,
   "metadata": {},
   "outputs": [],
   "source": []
  },
  {
   "cell_type": "code",
   "execution_count": null,
   "metadata": {},
   "outputs": [],
   "source": []
  },
  {
   "cell_type": "code",
   "execution_count": null,
   "metadata": {},
   "outputs": [],
   "source": []
  },
  {
   "cell_type": "code",
   "execution_count": null,
   "metadata": {},
   "outputs": [],
   "source": []
  },
  {
   "cell_type": "code",
   "execution_count": null,
   "metadata": {},
   "outputs": [],
   "source": []
  },
  {
   "cell_type": "code",
   "execution_count": null,
   "metadata": {},
   "outputs": [],
   "source": []
  },
  {
   "cell_type": "code",
   "execution_count": null,
   "metadata": {},
   "outputs": [],
   "source": []
  },
  {
   "cell_type": "code",
   "execution_count": null,
   "metadata": {},
   "outputs": [],
   "source": []
  },
  {
   "cell_type": "code",
   "execution_count": null,
   "metadata": {},
   "outputs": [],
   "source": []
  },
  {
   "cell_type": "code",
   "execution_count": null,
   "metadata": {},
   "outputs": [],
   "source": []
  },
  {
   "cell_type": "code",
   "execution_count": null,
   "metadata": {},
   "outputs": [],
   "source": []
  },
  {
   "cell_type": "code",
   "execution_count": null,
   "metadata": {},
   "outputs": [],
   "source": []
  },
  {
   "cell_type": "code",
   "execution_count": null,
   "metadata": {},
   "outputs": [],
   "source": []
  },
  {
   "cell_type": "code",
   "execution_count": null,
   "metadata": {},
   "outputs": [],
   "source": []
  },
  {
   "cell_type": "code",
   "execution_count": null,
   "metadata": {},
   "outputs": [],
   "source": []
  },
  {
   "cell_type": "code",
   "execution_count": null,
   "metadata": {},
   "outputs": [],
   "source": []
  },
  {
   "cell_type": "code",
   "execution_count": null,
   "metadata": {},
   "outputs": [],
   "source": []
  },
  {
   "cell_type": "code",
   "execution_count": null,
   "metadata": {},
   "outputs": [],
   "source": []
  },
  {
   "cell_type": "code",
   "execution_count": null,
   "metadata": {},
   "outputs": [],
   "source": []
  }
 ],
 "metadata": {
  "kernelspec": {
   "display_name": "Python 3",
   "language": "python",
   "name": "python3"
  },
  "language_info": {
   "codemirror_mode": {
    "name": "ipython",
    "version": 3
   },
   "file_extension": ".py",
   "mimetype": "text/x-python",
   "name": "python",
   "nbconvert_exporter": "python",
   "pygments_lexer": "ipython3",
   "version": "3.7.5"
  }
 },
 "nbformat": 4,
 "nbformat_minor": 4
}
