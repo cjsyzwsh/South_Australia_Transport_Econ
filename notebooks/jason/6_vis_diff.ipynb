{
 "cells": [
  {
   "cell_type": "code",
   "execution_count": 16,
   "id": "particular-transcription",
   "metadata": {},
   "outputs": [],
   "source": [
    "import numpy as np\n",
    "import pandas as pd\n",
    "import matplotlib.pyplot as plt\n",
    "import geopandas as gpd\n",
    "# import geoplot\n",
    "import pickle\n",
    "# import geoplot.crs as gcrs\n",
    "import statsmodels.api as sm"
   ]
  },
  {
   "cell_type": "code",
   "execution_count": 17,
   "id": "typical-drill",
   "metadata": {},
   "outputs": [],
   "source": [
    "edge_degree_df = pd.read_pickle(\"../../data_process/edge_degree_entropy_df.pickle\")\n",
    "node_degree_df = pd.read_pickle(\"../../data_process/node_degree_entropy_df.pickle\")"
   ]
  },
  {
   "cell_type": "markdown",
   "id": "french-savings",
   "metadata": {},
   "source": [
    "# Model 1"
   ]
  },
  {
   "cell_type": "code",
   "execution_count": 18,
   "id": "latest-stream",
   "metadata": {},
   "outputs": [],
   "source": [
    "with open('wo_south_road_pred_od_duration_value.pkl', 'rb') as f:\n",
    "    wo_south_road_pred_od_duration_value = pickle.load(f)\n",
    "with open('orig_pred_od_duration_value.pkl', 'rb') as f:\n",
    "    orig_pred_od_duration_value = pickle.load(f)"
   ]
  },
  {
   "cell_type": "code",
   "execution_count": 19,
   "id": "brief-fancy",
   "metadata": {},
   "outputs": [
    {
     "data": {
      "text/plain": [
       "nan"
      ]
     },
     "execution_count": 19,
     "metadata": {},
     "output_type": "execute_result"
    }
   ],
   "source": [
    "diff_orig_pred_od_duration_value = wo_south_road_pred_od_duration_value - orig_pred_od_duration_value\n",
    "sum(diff_orig_pred_od_duration_value)"
   ]
  },
  {
   "cell_type": "markdown",
   "id": "linear-surgery",
   "metadata": {},
   "source": [
    "# Model 2"
   ]
  },
  {
   "cell_type": "code",
   "execution_count": 20,
   "id": "prostate-newport",
   "metadata": {},
   "outputs": [],
   "source": [
    "with open('wo_south_road_pred_stays.pkl', 'rb') as f:\n",
    "    wo_south_road_pred_stays = pickle.load(f)\n",
    "with open('orig_pred_stays.pkl', 'rb') as f:\n",
    "    orig_pred_stays = pickle.load(f)"
   ]
  },
  {
   "cell_type": "code",
   "execution_count": 21,
   "id": "global-microwave",
   "metadata": {},
   "outputs": [
    {
     "data": {
      "text/plain": [
       "nan"
      ]
     },
     "execution_count": 21,
     "metadata": {},
     "output_type": "execute_result"
    }
   ],
   "source": [
    "sum(wo_south_road_pred_stays-orig_pred_stays)"
   ]
  },
  {
   "cell_type": "markdown",
   "id": "perfect-portrait",
   "metadata": {},
   "source": [
    "# Model 3"
   ]
  },
  {
   "cell_type": "code",
   "execution_count": 22,
   "id": "virtual-hybrid",
   "metadata": {},
   "outputs": [],
   "source": [
    "with open('wo_south_road_pred_median_income_per_job_aud_persons.pkl', 'rb') as f:\n",
    "    wo_south_road_pred_median_income_per_job_aud_persons = pickle.load(f)\n",
    "with open('orig_pred_median_income_per_job_aud_persons.pkl', 'rb') as f:\n",
    "    orig_pred_median_income_per_job_aud_persons = pickle.load(f)"
   ]
  },
  {
   "cell_type": "code",
   "execution_count": 23,
   "id": "unable-brown",
   "metadata": {},
   "outputs": [
    {
     "data": {
      "text/plain": [
       "0.0"
      ]
     },
     "execution_count": 23,
     "metadata": {},
     "output_type": "execute_result"
    }
   ],
   "source": [
    "sum(wo_south_road_pred_median_income_per_job_aud_persons-orig_pred_median_income_per_job_aud_persons)"
   ]
  },
  {
   "cell_type": "code",
   "execution_count": null,
   "id": "rotary-harvest",
   "metadata": {},
   "outputs": [],
   "source": []
  },
  {
   "cell_type": "code",
   "execution_count": null,
   "id": "driving-array",
   "metadata": {},
   "outputs": [],
   "source": []
  }
 ],
 "metadata": {
  "kernelspec": {
   "display_name": "Python 3",
   "language": "python",
   "name": "python3"
  },
  "language_info": {
   "codemirror_mode": {
    "name": "ipython",
    "version": 3
   },
   "file_extension": ".py",
   "mimetype": "text/x-python",
   "name": "python",
   "nbconvert_exporter": "python",
   "pygments_lexer": "ipython3",
   "version": "3.7.9"
  }
 },
 "nbformat": 4,
 "nbformat_minor": 5
}
