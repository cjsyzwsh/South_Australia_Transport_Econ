{
 "cells": [
  {
   "cell_type": "markdown",
   "metadata": {},
   "source": [
    "# Building networks\n",
    "\n",
    "Create basic networks for only Adelaide areas\n",
    "1. Physical SA2 network.\n",
    "2. Mobility SA2 network."
   ]
  },
  {
   "cell_type": "code",
   "execution_count": null,
   "metadata": {},
   "outputs": [],
   "source": [
    "import numpy as np\n",
    "import pandas as pd\n",
    "import matplotlib.pyplot as plt\n",
    "import geopandas as gpd\n",
    "import geoplot\n",
    "from pysal.lib import weights"
   ]
  },
  {
   "cell_type": "code",
   "execution_count": null,
   "metadata": {},
   "outputs": [],
   "source": [
    "## read files\n",
    "\n",
    "# read dfs\n",
    "trans_mcc_df = pd.read_pickle(\"../../data_process/trans_mcc_df.pkl\")\n",
    "trans_age_df = pd.read_pickle(\"../../data_process/trans_age_df.pkl\")\n",
    "flow_df = pd.read_pickle(\"../../data_process/flow_df.pkl\")\n",
    "\n",
    "# read spatial files\n",
    "sa2_south_au = gpd.read_file(\"../../data_process/shapefiles/sa2_south_au.shp\")\n",
    "sa2_adelaide = gpd.read_file('../../data_process/shapefiles/sa2_adelaide.shp')\n",
    "\n",
    "# read road networks\n",
    "sa2_roads = gpd.read_file(\"../../data_process/shapefiles/sa2_roads.shp\")\n",
    "\n",
    "# read job and income data\n",
    "jobs_all=pd.read_pickle(\"../data_process/jobs_all.pkl\")\n",
    "jobs_industries=pd.read_pickle(\"../data_process/jobs_industries.pkl\")\n"
   ]
  },
  {
   "cell_type": "code",
   "execution_count": null,
   "metadata": {},
   "outputs": [],
   "source": [
    "# convert to Australia projection\n",
    "sa2_south_au_proj = sa2_south_au.to_crs(\"epsg:3112\")\n",
    "sa2_south_au_proj.crs\n",
    "\n",
    "sa2_adelaide_proj = sa2_adelaide.to_crs(\"epsg:3112\")\n",
    "sa2_adelaide_proj.crs"
   ]
  },
  {
   "cell_type": "markdown",
   "metadata": {},
   "source": [
    "# Physical network"
   ]
  },
  {
   "cell_type": "code",
   "execution_count": null,
   "metadata": {},
   "outputs": [],
   "source": [
    "# add centroids\n",
    "sa2_south_au_proj['centroids']=sa2_south_au_proj.centroid\n",
    "sa2_adelaide_proj['centroids']=sa2_adelaide_proj.centroid"
   ]
  },
  {
   "cell_type": "code",
   "execution_count": null,
   "metadata": {},
   "outputs": [],
   "source": [
    "# build network for adelaide Queen net.\n",
    "adelaide_queen=weights.contiguity.Queen.from_dataframe(sa2_adelaide_proj)\n",
    "print(adelaide_queen.n)"
   ]
  },
  {
   "cell_type": "code",
   "execution_count": null,
   "metadata": {},
   "outputs": [],
   "source": [
    "# vis the basic network connection in adelaide\n",
    "ax = sa2_adelaide_proj.plot(edgecolor='k', facecolor='w', figsize = (10,10))\n",
    "sa2_adelaide_proj.centroids.plot(ax = ax, facecolor='r')\n",
    "adelaide_queen.plot(sa2_adelaide_proj, ax = ax, \n",
    "                  edge_kws=dict(color='r', linestyle=':', linewidth=1),\n",
    "                  node_kws=dict(marker=''))\n",
    "ax.set_axis_off()"
   ]
  },
  {
   "cell_type": "code",
   "execution_count": null,
   "metadata": {},
   "outputs": [],
   "source": [
    "# build network for south australia\n",
    "network_queen = weights.contiguity.Queen.from_dataframe(sa2_south_au_proj)\n",
    "print(network_queen.n)"
   ]
  },
  {
   "cell_type": "code",
   "execution_count": null,
   "metadata": {},
   "outputs": [],
   "source": [
    "# vis the basic network connection\n",
    "ax = sa2_south_au_proj.plot(edgecolor='k', facecolor='w', figsize = (10,10))\n",
    "sa2_south_au_proj.centroids.plot(ax = ax, facecolor='r')\n",
    "network_queen.plot(sa2_south_au_proj, ax = ax, \n",
    "                  edge_kws=dict(color='r', linestyle=':', linewidth=1),\n",
    "                  node_kws=dict(marker=''))\n",
    "ax.set_axis_off()"
   ]
  },
  {
   "cell_type": "markdown",
   "metadata": {},
   "source": [
    "# Mobility network"
   ]
  },
  {
   "cell_type": "code",
   "execution_count": null,
   "metadata": {},
   "outputs": [],
   "source": [
    "trans_mcc_df"
   ]
  },
  {
   "cell_type": "code",
   "execution_count": null,
   "metadata": {
    "scrolled": true
   },
   "outputs": [],
   "source": [
    "# aggregate flow info\n",
    "flow_agg = trans_mcc_df.groupby(['source_sa2','target_sa2']).sum()\n",
    "# flow_agg.ravel\n",
    "flow_agg"
   ]
  },
  {
   "cell_type": "code",
   "execution_count": null,
   "metadata": {},
   "outputs": [],
   "source": [
    "# full graph for the south australia area.\n",
    "network_full = weights.KNN.from_dataframe(sa2_south_au_proj, k = 171) # Full net, so k = 172-1\n",
    "\n",
    "# create mapping between idx and SA2 idx.\n",
    "map_df = sa2_south_au_proj.SA2_MAIN16\n",
    "map_df\n",
    "\n",
    "# edit graph weights by flow\n",
    "for i in network_full.weights.keys(): # i is the first idx of the full graph\n",
    "    for j in np.arange(len(network_full.weights[i])): # j is the second idx of the graph\n",
    "        i_sa2 = map_df[i]\n",
    "        j_sa2 = map_df[j]\n",
    "        try:\n",
    "            network_full.weights[i][j] = flow_agg.loc[(i_sa2, j_sa2), 'count'] # Do you need normalization?\n",
    "        except KeyError:\n",
    "            network_full.weights[i][j] = 0\n",
    "#         print(network_full.weights[i][j])\n",
    "\n",
    "# plot mobility net\n",
    "f,ax = plt.subplots(1, figsize=(9, 9))\n",
    "sa2_south_au_proj.plot(ax=ax, facecolor='w', edgecolor='k')\n",
    "network_full.plot(sa2_south_au_proj, edge_kws=dict(linewidth=0.2, color='orangered', alpha=0.5), \n",
    "                  node_kws=dict(marker='*'), ax=ax)\n",
    "ax.set_axis_off()\n"
   ]
  },
  {
   "cell_type": "code",
   "execution_count": null,
   "metadata": {},
   "outputs": [],
   "source": [
    "# full Adelaide graph\n",
    "network_adl = weights.KNN.from_dataframe(sa2_adelaide_proj, k = 109)\n",
    "map_adl = sa2_adelaide_proj.SA2_MAIN16 # create a map\n",
    "\n",
    "# edit graph weights by flow\n",
    "for i in network_adl.weights.keys(): # i is the first idx of the full graph\n",
    "    for j in np.arange(len(network_adl.weights[i])): # j is the second idx of the graph\n",
    "        i_sa2 = map_adl[i]\n",
    "        j_sa2 = map_adl[j]\n",
    "        try:\n",
    "            network_adl.weights[i][j] = flow_agg.loc[(i_sa2, j_sa2), 'count'] # Do you need normalization?\n",
    "        except KeyError:\n",
    "            network_adl.weights[i][j] = 0\n",
    "#         print(network_full.weights[i][j])\n",
    "# print(network_adl.weights)\n",
    "\n",
    "# vis\n",
    "# plot\n",
    "f,ax = plt.subplots(1, figsize=(9, 9))\n",
    "sa2_adelaide_proj.plot(ax=ax, facecolor='w', edgecolor='k')\n",
    "network_adl.plot(sa2_adelaide_proj, edge_kws=dict(linewidth=0.1, color='orangered', alpha=0.5), \n",
    "                  node_kws=dict(marker='*'), ax=ax)\n",
    "ax.set_axis_off()\n"
   ]
  },
  {
   "cell_type": "code",
   "execution_count": null,
   "metadata": {},
   "outputs": [],
   "source": []
  },
  {
   "cell_type": "code",
   "execution_count": null,
   "metadata": {},
   "outputs": [],
   "source": []
  },
  {
   "cell_type": "code",
   "execution_count": null,
   "metadata": {},
   "outputs": [],
   "source": []
  },
  {
   "cell_type": "code",
   "execution_count": null,
   "metadata": {},
   "outputs": [],
   "source": []
  },
  {
   "cell_type": "code",
   "execution_count": null,
   "metadata": {},
   "outputs": [],
   "source": []
  },
  {
   "cell_type": "code",
   "execution_count": null,
   "metadata": {},
   "outputs": [],
   "source": []
  },
  {
   "cell_type": "code",
   "execution_count": null,
   "metadata": {},
   "outputs": [],
   "source": []
  },
  {
   "cell_type": "code",
   "execution_count": null,
   "metadata": {},
   "outputs": [],
   "source": []
  },
  {
   "cell_type": "code",
   "execution_count": null,
   "metadata": {},
   "outputs": [],
   "source": []
  },
  {
   "cell_type": "code",
   "execution_count": null,
   "metadata": {},
   "outputs": [],
   "source": []
  },
  {
   "cell_type": "code",
   "execution_count": null,
   "metadata": {},
   "outputs": [],
   "source": []
  },
  {
   "cell_type": "code",
   "execution_count": null,
   "metadata": {},
   "outputs": [],
   "source": []
  },
  {
   "cell_type": "code",
   "execution_count": null,
   "metadata": {},
   "outputs": [],
   "source": []
  },
  {
   "cell_type": "code",
   "execution_count": null,
   "metadata": {},
   "outputs": [],
   "source": []
  },
  {
   "cell_type": "code",
   "execution_count": null,
   "metadata": {},
   "outputs": [],
   "source": []
  }
 ],
 "metadata": {
  "kernelspec": {
   "display_name": "Python 3",
   "language": "python",
   "name": "python3"
  },
  "language_info": {
   "codemirror_mode": {
    "name": "ipython",
    "version": 3
   },
   "file_extension": ".py",
   "mimetype": "text/x-python",
   "name": "python",
   "nbconvert_exporter": "python",
   "pygments_lexer": "ipython3",
   "version": "3.7.9"
  }
 },
 "nbformat": 4,
 "nbformat_minor": 4
}
