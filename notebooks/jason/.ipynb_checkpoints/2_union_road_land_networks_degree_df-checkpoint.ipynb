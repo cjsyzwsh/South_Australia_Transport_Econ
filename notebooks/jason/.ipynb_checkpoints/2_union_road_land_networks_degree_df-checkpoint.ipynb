{
 "cells": [
  {
   "cell_type": "markdown",
   "metadata": {},
   "source": [
    "# Union of Road and Land Networks\n",
    "\n",
    "Combine the road and SA2 shapefiles. Augment the road network information to the SA2 shapefiles. For now, I only augmented the road class information to the SA2 shapefile."
   ]
  },
  {
   "cell_type": "code",
   "execution_count": 1,
   "metadata": {},
   "outputs": [
    {
     "name": "stderr",
     "output_type": "stream",
     "text": [
      "/home/jasonllu/anaconda3/lib/python3.7/site-packages/geopandas/_compat.py:88: UserWarning: The Shapely GEOS version (3.9.0-CAPI-1.14.1) is incompatible with the GEOS version PyGEOS was compiled with (3.9.0-CAPI-1.16.2). Conversions between both will be slow.\n",
      "  shapely_geos_version, geos_capi_version_string\n"
     ]
    }
   ],
   "source": [
    "import numpy as np\n",
    "import pandas as pd\n",
    "import matplotlib.pyplot as plt\n",
    "import geopandas as gpd\n",
    "import geoplot\n",
    "import pickle\n",
    "import geoplot.crs as gcrs\n"
   ]
  },
  {
   "cell_type": "code",
   "execution_count": 2,
   "metadata": {},
   "outputs": [],
   "source": [
    "# read spatial files\n",
    "sa2_south_au = gpd.read_file(\"../../data_process/shapefiles/sa2_south_au.shp\")\n",
    "sa2_adelaide = gpd.read_file('../../data_process/shapefiles/sa2_adelaide.shp')\n",
    "\n",
    "# read road networks\n",
    "sa2_roads = gpd.read_file(\"../../data_process/shapefiles/sa2_roads.shp\")\n"
   ]
  },
  {
   "cell_type": "code",
   "execution_count": null,
   "metadata": {},
   "outputs": [],
   "source": [
    "# crs and projection\n",
    "sa2_adelaide_proj = sa2_adelaide.to_crs(\"epsg:3112\")\n",
    "sa2_roads_proj = sa2_roads.to_crs(\"epsg:3112\")\n"
   ]
  },
  {
   "cell_type": "code",
   "execution_count": null,
   "metadata": {
    "scrolled": true
   },
   "outputs": [],
   "source": [
    "# col names. Use \"class\" from roads only\n",
    "print(sa2_roads_proj.columns)\n",
    "print(sa2_adelaide_proj.columns)\n"
   ]
  },
  {
   "cell_type": "code",
   "execution_count": null,
   "metadata": {
    "scrolled": true
   },
   "outputs": [],
   "source": [
    "sa2_roads_proj.head()"
   ]
  },
  {
   "cell_type": "code",
   "execution_count": null,
   "metadata": {
    "scrolled": true
   },
   "outputs": [],
   "source": [
    "sa2_roads_proj['class'].value_counts() # ten groups. "
   ]
  },
  {
   "cell_type": "code",
   "execution_count": null,
   "metadata": {
    "scrolled": true
   },
   "outputs": [],
   "source": [
    "sa2_adelaide_proj.head(110)"
   ]
  },
  {
   "cell_type": "code",
   "execution_count": null,
   "metadata": {},
   "outputs": [],
   "source": [
    "# shape\n",
    "print(sa2_adelaide_proj.shape)\n",
    "print(sa2_roads_proj.shape)"
   ]
  },
  {
   "cell_type": "code",
   "execution_count": null,
   "metadata": {
    "scrolled": false
   },
   "outputs": [],
   "source": [
    "# plot\n",
    "# a = gpd.GeoSeries(sa2_adelaide_proj.loc[0,'geometry'])\n",
    "\n",
    "ax = sa2_adelaide_proj.plot(edgecolor='k', facecolor='w', figsize = (15,15))\n",
    "# a.plot(ax = ax, edgecolor='r')\n",
    "sa2_roads_proj.plot(ax = ax, edgecolor='b', linewidth=0.1)\n",
    "ax.set_xlim(sa2_adelaide_proj.total_bounds[0], sa2_adelaide_proj.total_bounds[2])\n",
    "ax.set_ylim(sa2_adelaide_proj.total_bounds[1], sa2_adelaide_proj.total_bounds[3])\n",
    "ax.set_axis_off()\n"
   ]
  },
  {
   "cell_type": "markdown",
   "metadata": {},
   "source": [
    "# Intersect the two networks"
   ]
  },
  {
   "cell_type": "code",
   "execution_count": null,
   "metadata": {},
   "outputs": [],
   "source": [
    "# create the centroids for roads\n",
    "road_centroid = sa2_roads_proj.centroid\n",
    "road_centroid"
   ]
  },
  {
   "cell_type": "code",
   "execution_count": null,
   "metadata": {
    "scrolled": true
   },
   "outputs": [],
   "source": [
    "# attach SA2 idx to road networks\n",
    "sa2_roads_proj['SA2_loc'] = -1 # init as -1.\n",
    "\n",
    "for SA2_idx in range(sa2_adelaide_proj.shape[0]):\n",
    "    print(SA2_idx)\n",
    "    # assign SA2_idx to the road network\n",
    "    within_logic = road_centroid.within(sa2_adelaide_proj.loc[SA2_idx, 'geometry'])\n",
    "    sa2_roads_proj.loc[within_logic, 'SA2_loc'] = SA2_idx\n",
    "    "
   ]
  },
  {
   "cell_type": "code",
   "execution_count": null,
   "metadata": {
    "scrolled": true
   },
   "outputs": [],
   "source": [
    "# Use only the 'class' variable for now. \n",
    "sa2_roads_class_proj = sa2_roads_proj[['class', 'geometry', 'SA2_loc']]\n",
    "sa2_roads_class_proj_dummies = pd.get_dummies(sa2_roads_class_proj)\n",
    "sa2_roads_class_proj_dummies.head()"
   ]
  },
  {
   "cell_type": "code",
   "execution_count": null,
   "metadata": {},
   "outputs": [],
   "source": [
    "# aggregate the road attribute dummies for SA2.\n",
    "sa2_roads_class_proj_dummies = sa2_roads_class_proj_dummies.loc[sa2_roads_class_proj_dummies['SA2_loc'] > -1]\n",
    "print(sa2_roads_class_proj_dummies.shape)\n",
    "sa2_road_class_agg=sa2_roads_class_proj_dummies.groupby(by='SA2_loc').sum()\n",
    "sa2_road_class_agg.head(20)"
   ]
  },
  {
   "cell_type": "code",
   "execution_count": null,
   "metadata": {},
   "outputs": [],
   "source": [
    "# augment road class variables to SA2_network.\n",
    "sa2_adelaide_proj = sa2_adelaide_proj.merge(sa2_road_class_agg, how='inner', left_index=True, right_index=True)"
   ]
  },
  {
   "cell_type": "code",
   "execution_count": null,
   "metadata": {},
   "outputs": [],
   "source": [
    "# \n",
    "sa2_adelaide_proj.head()"
   ]
  },
  {
   "cell_type": "code",
   "execution_count": null,
   "metadata": {},
   "outputs": [],
   "source": [
    "sa2_adelaide_proj.columns"
   ]
  },
  {
   "cell_type": "code",
   "execution_count": null,
   "metadata": {},
   "outputs": [],
   "source": [
    "sa2_roads_proj.columns"
   ]
  },
  {
   "cell_type": "code",
   "execution_count": null,
   "metadata": {},
   "outputs": [],
   "source": [
    "count ={}\n",
    "for elt in sa2_roads_proj[\"SA2_loc\"]:\n",
    "    if elt in count:\n",
    "        count[elt] += 1\n",
    "    else:\n",
    "        count[elt] = 1\n",
    "print(count)"
   ]
  },
  {
   "cell_type": "code",
   "execution_count": null,
   "metadata": {},
   "outputs": [],
   "source": [
    "# save\n",
    "#sa2_adelaide_proj.to_file(\"../data_process/shapefiles/sa2_adelaide_proj_road_class.shp\")"
   ]
  },
  {
   "cell_type": "code",
   "execution_count": null,
   "metadata": {},
   "outputs": [],
   "source": [
    "SA_idxs = sorted((key,count[key]) for key in count)"
   ]
  },
  {
   "cell_type": "code",
   "execution_count": null,
   "metadata": {},
   "outputs": [],
   "source": [
    "# SA_idx_to_numinter = {}\n",
    "# for sa_idx,c in SA_idxs:\n",
    "#     print(sa_idx)\n",
    "#     if sa_idx != -1:\n",
    "#         within = sa2_roads_proj[sa2_roads_proj[\"SA2_loc\"]==sa_idx]\n",
    "#         num_inter = 0\n",
    "#         print(len(within))\n",
    "#         for line in within[\"geometry\"]:\n",
    "#             for line2 in within[\"geometry\"]:\n",
    "#                 if line != line2:\n",
    "#                     inter = line.intersection(line2)\n",
    "#                     if inter:\n",
    "#                         num_inter += 1\n",
    "#         SA_idx_to_numinter[sa_idx] = num_inter"
   ]
  },
  {
   "cell_type": "code",
   "execution_count": null,
   "metadata": {},
   "outputs": [],
   "source": [
    "sa2_roads_proj[\"geometry\"].head()"
   ]
  },
  {
   "cell_type": "code",
   "execution_count": null,
   "metadata": {},
   "outputs": [],
   "source": [
    "!pip3 install momepy\n",
    "import momepy\n",
    "import geopandas as gpd\n",
    "import matplotlib.pyplot as plt\n",
    "import networkx as nx"
   ]
  },
  {
   "cell_type": "code",
   "execution_count": null,
   "metadata": {},
   "outputs": [],
   "source": [
    "sa_idx_to_graph = {}\n",
    "for sa_idx,c in SA_idxs[1:]:\n",
    "    print(sa_idx)\n",
    "    within = sa2_roads_proj[sa2_roads_proj[\"SA2_loc\"]==sa_idx]\n",
    "    graph = momepy.gdf_to_nx(within, approach='primal')\n",
    "    sa_idx_to_graph[sa_idx] = graph"
   ]
  },
  {
   "cell_type": "code",
   "execution_count": null,
   "metadata": {},
   "outputs": [],
   "source": [
    "g = sa_idx_to_graph[0]"
   ]
  },
  {
   "cell_type": "code",
   "execution_count": null,
   "metadata": {},
   "outputs": [],
   "source": [
    "degree = dict(nx.degree(g))\n",
    "nx.set_node_attributes(g, degree, 'degree')\n",
    "g = momepy.node_degree(g, name='degree')"
   ]
  },
  {
   "cell_type": "code",
   "execution_count": null,
   "metadata": {},
   "outputs": [],
   "source": [
    "node_df, edge_df, sw = momepy.nx_to_gdf(g, points=True, lines=True,\n",
    "                                    spatial_weights=True)"
   ]
  },
  {
   "cell_type": "code",
   "execution_count": null,
   "metadata": {},
   "outputs": [],
   "source": [
    "node_df.head()"
   ]
  },
  {
   "cell_type": "code",
   "execution_count": null,
   "metadata": {},
   "outputs": [],
   "source": [
    "degree_df = pd.DataFrame(columns=[\"SA2_MAIN16\", \"num_nodes\", \"num_1degree\", \"num_2degree\", \"num_3degree\", \"num_4degree\", \"num_greater5degree\"])"
   ]
  },
  {
   "cell_type": "code",
   "execution_count": null,
   "metadata": {},
   "outputs": [],
   "source": [
    "degree_df"
   ]
  },
  {
   "cell_type": "code",
   "execution_count": null,
   "metadata": {},
   "outputs": [],
   "source": [
    "degree_df.columns"
   ]
  },
  {
   "cell_type": "code",
   "execution_count": null,
   "metadata": {},
   "outputs": [],
   "source": [
    "for sa_idx in sa_idx_to_graph:\n",
    "    print(sa_idx)\n",
    "    g = sa_idx_to_graph[sa_idx]\n",
    "    degree = dict(nx.degree(g))\n",
    "    nx.set_node_attributes(g, degree, 'degree')\n",
    "    g = momepy.node_degree(g, name='degree')\n",
    "    node_df, edge_df, sw = momepy.nx_to_gdf(g, points=True, lines=True,\n",
    "                                    spatial_weights=True)\n",
    "    \n",
    "    SA2_MAIN16 = sa2_adelaide_proj.iloc[sa_idx][\"SA2_MAIN16\"]\n",
    "    #nodes is intersections\n",
    "    num_nodes = len(node_df)\n",
    "    #num_0degree = len(node_df[node_df[\"degree\"]==0])\n",
    "    num_1degree = len(node_df[node_df[\"degree\"]==1])\n",
    "    num_2degree = len(node_df[node_df[\"degree\"]==2])\n",
    "    num_3degree = len(node_df[node_df[\"degree\"]==3])\n",
    "    num_4degree = len(node_df[node_df[\"degree\"]==4])\n",
    "    num_greater5degree = len(node_df[node_df[\"degree\"]>=5])\n",
    "    degree_df = degree_df.append({\"SA2_MAIN16\": SA2_MAIN16, \"num_nodes\":num_nodes,  \n",
    "                                  \"num_1degree\":num_1degree, \"num_2degree\":num_2degree, \"num_3degree\":num_3degree,\n",
    "                                  \"num_4degree\":num_4degree,\n",
    "                                  \"num_greater5degree\":num_greater5degree},\n",
    "                                ignore_index=True)\n",
    "    "
   ]
  },
  {
   "cell_type": "code",
   "execution_count": null,
   "metadata": {},
   "outputs": [],
   "source": [
    "degree_df"
   ]
  },
  {
   "cell_type": "code",
   "execution_count": null,
   "metadata": {},
   "outputs": [],
   "source": [
    "degree_df.to_pickle('../../data_process/degree_df.pickle')"
   ]
  },
  {
   "cell_type": "code",
   "execution_count": null,
   "metadata": {},
   "outputs": [],
   "source": []
  }
 ],
 "metadata": {
  "kernelspec": {
   "display_name": "Python 3",
   "language": "python",
   "name": "python3"
  },
  "language_info": {
   "codemirror_mode": {
    "name": "ipython",
    "version": 3
   },
   "file_extension": ".py",
   "mimetype": "text/x-python",
   "name": "python",
   "nbconvert_exporter": "python",
   "pygments_lexer": "ipython3",
   "version": "3.7.9"
  }
 },
 "nbformat": 4,
 "nbformat_minor": 4
}
